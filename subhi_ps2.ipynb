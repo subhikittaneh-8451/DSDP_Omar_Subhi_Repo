{
 "cells": [
  {
   "cell_type": "code",
   "execution_count": 0,
   "metadata": {
    "application/vnd.databricks.v1+cell": {
     "cellMetadata": {
      "byteLimit": 2048000,
      "rowLimit": 10000
     },
     "inputWidgets": {},
     "nuid": "2fd42d4b-e916-4089-8f71-3a8c64f2cf67",
     "showTitle": false,
     "tableResultSettingsMap": {},
     "title": ""
    }
   },
   "outputs": [],
   "source": [
    "%pip install --quiet easy_hml"
   ]
  },
  {
   "cell_type": "code",
   "execution_count": 0,
   "metadata": {
    "application/vnd.databricks.v1+cell": {
     "cellMetadata": {
      "byteLimit": 2048000,
      "rowLimit": 10000
     },
     "inputWidgets": {},
     "nuid": "6cdc5d29-3c43-4ba1-b089-410b3c105674",
     "showTitle": false,
     "tableResultSettingsMap": {},
     "title": ""
    }
   },
   "outputs": [],
   "source": [
    "%pip install --quiet airspace"
   ]
  },
  {
   "cell_type": "code",
   "execution_count": 0,
   "metadata": {
    "application/vnd.databricks.v1+cell": {
     "cellMetadata": {
      "byteLimit": 2048000,
      "rowLimit": 10000
     },
     "inputWidgets": {},
     "nuid": "7ad3fe82-d365-4082-b374-1e750017e489",
     "showTitle": false,
     "tableResultSettingsMap": {},
     "title": ""
    }
   },
   "outputs": [],
   "source": [
    "dbutils.library.restartPython()"
   ]
  },
  {
   "cell_type": "code",
   "execution_count": 0,
   "metadata": {
    "application/vnd.databricks.v1+cell": {
     "cellMetadata": {
      "byteLimit": 2048000,
      "rowLimit": 10000
     },
     "inputWidgets": {},
     "nuid": "15cc7137-4b8f-4de6-aa25-1bd7a2554ba4",
     "showTitle": false,
     "tableResultSettingsMap": {},
     "title": ""
    }
   },
   "outputs": [],
   "source": [
    "import pyspark.sql.functions as f\n",
    "from pyspark.sql import Window\n",
    "from pyspark.sql import Row\n",
    "from functools import partial\n",
    "import seg\n",
    "import kayday as kd\n",
    "from seg.utils import DateType\n",
    "from IPython.display import Image as img\n",
    "from IPython.display import display as img_display\n",
    "from effodata import ACDS, golden_rules, Sifter, Equality, Joiner, Lambda\n",
    "from kpi_metrics import KPI, available_metrics as  amKPI, get_metrics, AliasMetric, AliasGroupby, CustomMetric\n",
    "import upc_input\n",
    "import easy_hml\n",
    "from easy_hml import generate_hml, approved_metric_pairs, available_metrics as amhml\n",
    "import airspace\n",
    "from datetime import datetime, timedelta\n",
    "from dateutil.relativedelta import relativedelta"
   ]
  },
  {
   "cell_type": "markdown",
   "metadata": {
    "application/vnd.databricks.v1+cell": {
     "cellMetadata": {
      "byteLimit": 2048000,
      "rowLimit": 10000
     },
     "inputWidgets": {},
     "nuid": "8e5281bb-b699-4cd3-8d31-805bdbe22053",
     "showTitle": false,
     "tableResultSettingsMap": {},
     "title": ""
    }
   },
   "source": [
    "#Getting Our Base Model Inputs"
   ]
  },
  {
   "cell_type": "code",
   "execution_count": 0,
   "metadata": {
    "application/vnd.databricks.v1+cell": {
     "cellMetadata": {
      "byteLimit": 2048000,
      "rowLimit": 10000
     },
     "inputWidgets": {},
     "nuid": "d460e99e-ae6f-458b-b7f6-f13a372ad6a2",
     "showTitle": false,
     "tableResultSettingsMap": {},
     "title": ""
    }
   },
   "outputs": [],
   "source": [
    "model_inputs_raw = spark.read.table(\"sandbox_dev.tm_learning.model_inputs_raw\") # new tag model inputs for the past 6 months \n",
    " "
   ]
  },
  {
   "cell_type": "code",
   "execution_count": 0,
   "metadata": {
    "application/vnd.databricks.v1+cell": {
     "cellMetadata": {
      "byteLimit": 2048000,
      "rowLimit": 10000
     },
     "inputWidgets": {},
     "nuid": "52a8928e-657f-4e4c-b27e-89c7bfabecb5",
     "showTitle": false,
     "tableResultSettingsMap": {},
     "title": ""
    }
   },
   "outputs": [],
   "source": [
    "model_inputs = model_inputs_raw.groupBy(\"GUID\", \"EMAIL_THEME\", \"DEPARTMENT\").agg(\n",
    "  f.sum(\"THEME_SENT\").alias(\"THEME_SENT\"),\n",
    "  f.sum(\"THEME_OPEN\").alias(\"THEME_OPEN\"),\n",
    "  f.sum(\"THEME_CLICK\").alias(\"THEME_CLICK\"),\n",
    "  f.sum(\"THEME_UNSUBSCRIBE\").alias(\"THEME_UNSUBSCRIBE\"),\n",
    "  (f.sum(\"THEME_OPEN\") / f.sum(\"THEME_SENT\")).alias(\"theme_open_rate\"),\n",
    "  (f.sum(\"THEME_CLICK\") / f.sum(\"THEME_SENT\")).alias(\"theme_click_rate\"),\n",
    "  f.sum(\"DEPT_SENT\").alias(\"DEPT_SENT\"),\n",
    "  f.sum(\"DEPT_OPEN\").alias(\"DEPT_OPEN\"),\n",
    "  f.sum(\"DEPT_CLICK\").alias(\"DEPT_CLICK\"),\n",
    "  f.sum(\"DEPT_UNSUBSCRIBE\").alias(\"DEPT_UNSUBSCRIBE\"),\n",
    "  (f.sum(\"DEPT_OPEN\") / f.sum(\"DEPT_SENT\")).alias(\"dept_open_rate\"),\n",
    "  (f.sum(\"DEPT_CLICK\") / f.sum(\"DEPT_SENT\")).alias(\"dept_click_rate\"),\n",
    ")"
   ]
  },
  {
   "cell_type": "code",
   "execution_count": 0,
   "metadata": {
    "application/vnd.databricks.v1+cell": {
     "cellMetadata": {},
     "inputWidgets": {},
     "nuid": "1d9366fb-61a9-48a3-81c8-60a79b8fd144",
     "showTitle": false,
     "tableResultSettingsMap": {},
     "title": ""
    }
   },
   "outputs": [],
   "source": [
    "model_inputs_raw_unique_count = model_inputs_raw.select(\"GUID\", \"EMAIL_THEME\", \"DEPARTMENT\").distinct().count()\n",
    "model_inputs_count  = model_inputs.count()\n",
    "print(model_inputs_raw_unique_count, model_inputs_count)"
   ]
  },
  {
   "cell_type": "code",
   "execution_count": 0,
   "metadata": {
    "application/vnd.databricks.v1+cell": {
     "cellMetadata": {
      "byteLimit": 2048000,
      "rowLimit": 10000
     },
     "inputWidgets": {},
     "nuid": "146f2814-57fd-4bf7-aa04-a227a7fbcc33",
     "showTitle": false,
     "tableResultSettingsMap": {},
     "title": ""
    }
   },
   "outputs": [],
   "source": [
    "model_inputs.filter(f.col(\"GUID\") == \"004BA2DA3E78452C8613D89A7F38A381\").display()"
   ]
  },
  {
   "cell_type": "markdown",
   "metadata": {
    "application/vnd.databricks.v1+cell": {
     "cellMetadata": {
      "byteLimit": 2048000,
      "rowLimit": 10000
     },
     "inputWidgets": {},
     "nuid": "80799b39-cdf4-48e1-a134-ca5fe23cec3b",
     "showTitle": false,
     "tableResultSettingsMap": {},
     "title": ""
    }
   },
   "source": [
    "#Set up Airspace"
   ]
  },
  {
   "cell_type": "code",
   "execution_count": 0,
   "metadata": {
    "application/vnd.databricks.v1+cell": {
     "cellMetadata": {
      "byteLimit": 2048000,
      "rowLimit": 10000
     },
     "inputWidgets": {},
     "nuid": "c55d2e5e-a967-4935-8f1f-e252ec9aa026",
     "showTitle": false,
     "tableResultSettingsMap": {},
     "title": ""
    }
   },
   "outputs": [],
   "source": [
    "#Set up airspace, well join this with basically everything\n",
    "datetime.strptime('20250203', '%Y%m%d')\n",
    "start_date = (datetime.today() - relativedelta(months=6)).strftime('%Y%m%d')\n",
    "end_date = datetime.today().strftime('%Y%m%d')\n",
    "\n",
    "config = {\n",
    "  'start_date': start_date,\n",
    "  'end_date' : end_date\n",
    "}\n",
    "as_mapping = airspace.email_households(config)\n",
    "as_mapping2 = airspace.guid_to_ehhn_map(config)"
   ]
  },
  {
   "cell_type": "code",
   "execution_count": 0,
   "metadata": {
    "application/vnd.databricks.v1+cell": {
     "cellMetadata": {
      "byteLimit": 2048000,
      "rowLimit": 10000
     },
     "inputWidgets": {},
     "nuid": "58637b03-2f9a-4f31-923c-f88046ab6b26",
     "showTitle": false,
     "tableResultSettingsMap": {},
     "title": ""
    }
   },
   "outputs": [],
   "source": [
    "# Join our model data with email_households to get guid->EHHN matches\n",
    "\n",
    "features = model_inputs.withColumnRenamed(\"GUID\", \"guid\").join(as_mapping, on = 'guid', how = \"inner\")\n",
    "features2 = model_inputs.withColumnRenamed(\"GUID\", \"guid\").join(as_mapping2, on = 'guid', how = \"inner\")"
   ]
  },
  {
   "cell_type": "code",
   "execution_count": 0,
   "metadata": {
    "application/vnd.databricks.v1+cell": {
     "cellMetadata": {},
     "inputWidgets": {},
     "nuid": "14f6ce7b-df46-42e4-899b-cb1a63ef8b62",
     "showTitle": false,
     "tableResultSettingsMap": {},
     "title": ""
    }
   },
   "outputs": [],
   "source": [
    "features.write.mode(\"overwrite\").saveAsTable(f\"sandbox_dev.tm_learning.model_input_agg_6mo\")"
   ]
  },
  {
   "cell_type": "code",
   "execution_count": 0,
   "metadata": {
    "application/vnd.databricks.v1+cell": {
     "cellMetadata": {
      "byteLimit": 2048000,
      "rowLimit": 10000
     },
     "inputWidgets": {},
     "nuid": "2a265c18-a020-457d-93a2-92e356d9a386",
     "showTitle": false,
     "tableResultSettingsMap": {},
     "title": ""
    }
   },
   "outputs": [],
   "source": [
    "print(features.count())\n",
    "print(model_inputs.count())\n",
    "print(features2.count())\n"
   ]
  },
  {
   "cell_type": "code",
   "execution_count": 0,
   "metadata": {
    "application/vnd.databricks.v1+cell": {
     "cellMetadata": {
      "byteLimit": 2048000,
      "rowLimit": 10000
     },
     "inputWidgets": {},
     "nuid": "94d9a6c7-21a6-4c53-bc91-338b4f988d33",
     "showTitle": false,
     "tableResultSettingsMap": {},
     "title": ""
    }
   },
   "outputs": [],
   "source": [
    "print(features.select(\"guid\").distinct().count())\n",
    "print(features2.select(\"guid\").distinct().count())\n",
    "print(model_inputs.select(\"GUID\").distinct().count())"
   ]
  },
  {
   "cell_type": "markdown",
   "metadata": {
    "application/vnd.databricks.v1+cell": {
     "cellMetadata": {
      "byteLimit": 2048000,
      "rowLimit": 10000
     },
     "inputWidgets": {},
     "nuid": "f338c71c-923e-4697-920a-6beaeff6501b",
     "showTitle": false,
     "tableResultSettingsMap": {},
     "title": ""
    }
   },
   "source": [
    "Well start with Segmentations, then move towards transactions\n"
   ]
  },
  {
   "cell_type": "markdown",
   "metadata": {
    "application/vnd.databricks.v1+cell": {
     "cellMetadata": {
      "byteLimit": 2048000,
      "rowLimit": 10000
     },
     "inputWidgets": {},
     "nuid": "1ebca8cc-d6a0-43dc-9e42-ea16078afbd7",
     "showTitle": false,
     "tableResultSettingsMap": {},
     "title": ""
    }
   },
   "source": [
    "2024-08-02"
   ]
  },
  {
   "cell_type": "markdown",
   "metadata": {
    "application/vnd.databricks.v1+cell": {
     "cellMetadata": {
      "byteLimit": 2048000,
      "rowLimit": 10000
     },
     "inputWidgets": {},
     "nuid": "cdfc5dbf-a748-43bb-9b8a-6d472013bacd",
     "showTitle": false,
     "tableResultSettingsMap": {},
     "title": ""
    }
   },
   "source": [
    "#Funlo"
   ]
  },
  {
   "cell_type": "markdown",
   "metadata": {
    "application/vnd.databricks.v1+cell": {
     "cellMetadata": {
      "byteLimit": 2048000,
      "rowLimit": 10000
     },
     "inputWidgets": {},
     "nuid": "cff1cd59-af63-4340-8d06-c7bbc254d10e",
     "showTitle": false,
     "tableResultSettingsMap": {},
     "title": ""
    }
   },
   "source": [
    "## Get data / run joins"
   ]
  },
  {
   "cell_type": "code",
   "execution_count": 0,
   "metadata": {
    "application/vnd.databricks.v1+cell": {
     "cellMetadata": {
      "byteLimit": 2048000,
      "rowLimit": 10000
     },
     "inputWidgets": {},
     "nuid": "740d3c58-1de1-443d-be77-6881319745e2",
     "showTitle": false,
     "tableResultSettingsMap": {},
     "title": ""
    }
   },
   "outputs": [],
   "source": [
    "funlo = seg.get_seg_for_date(\n",
    "  'funlo',\n",
    "'2025-02-14', \n",
    "  )"
   ]
  },
  {
   "cell_type": "code",
   "execution_count": 0,
   "metadata": {
    "application/vnd.databricks.v1+cell": {
     "cellMetadata": {
      "byteLimit": 2048000,
      "rowLimit": 10000
     },
     "inputWidgets": {},
     "nuid": "58cad344-986f-4107-8c76-462109fee78a",
     "showTitle": false,
     "tableResultSettingsMap": {},
     "title": ""
    }
   },
   "outputs": [],
   "source": [
    "funlo_feature = funlo.join(\n",
    "  features,\n",
    "  on='ehhn',\n",
    "  how = \"inner\"\n",
    ")"
   ]
  },
  {
   "cell_type": "code",
   "execution_count": 0,
   "metadata": {
    "application/vnd.databricks.v1+cell": {
     "cellMetadata": {},
     "inputWidgets": {},
     "nuid": "fd8607b0-a297-455d-b1cb-1328465d3e6e",
     "showTitle": false,
     "tableResultSettingsMap": {},
     "title": ""
    }
   },
   "outputs": [],
   "source": [
    "funlo_feature_count = funlo_feature.select(\"GUID\").distinct().count() \n",
    "model_inputs_count  = model_inputs.select(\"GUID\").distinct().count() \n",
    "print(funlo_feature_count)\n",
    "print(model_inputs_count)"
   ]
  },
  {
   "cell_type": "code",
   "execution_count": 0,
   "metadata": {
    "application/vnd.databricks.v1+cell": {
     "cellMetadata": {
      "byteLimit": 2048000,
      "rowLimit": 10000
     },
     "inputWidgets": {},
     "nuid": "ed8549ba-8615-4e2e-ba52-22dbe16c6351",
     "showTitle": false,
     "tableResultSettingsMap": {},
     "title": ""
    }
   },
   "outputs": [],
   "source": [
    "funlo_feature.filter(f.col(\"ehhn\") == \"61246700178\").display()"
   ]
  },
  {
   "cell_type": "code",
   "execution_count": 0,
   "metadata": {
    "application/vnd.databricks.v1+cell": {
     "cellMetadata": {
      "byteLimit": 2048000,
      "rowLimit": 10000
     },
     "inputWidgets": {},
     "nuid": "00157246-0409-4525-aa44-913fe64f3097",
     "showTitle": false,
     "tableResultSettingsMap": {},
     "title": ""
    }
   },
   "outputs": [],
   "source": [
    "funlo_aggs = funlo_feature.groupBy(\"funlo_rollup_desc\", \"EMAIL_THEME\", \"DEPARTMENT\").agg(\n",
    "  f.countDistinct(\"guid\").alias(\"Unique_Guids\"),\n",
    "  f.countDistinct(\"ehhn\").alias(\"Unique_Households\"),\n",
    "  f.sum(\"THEME_SENT\").alias(\"THEME_SENT\"),\n",
    "  f.sum(\"THEME_OPEN\").alias(\"THEME_OPEN\"),\n",
    "  f.sum(\"THEME_CLICK\").alias(\"THEME_CLICK\"),\n",
    "  f.sum(\"THEME_UNSUBSCRIBE\").alias(\"THEME_UNSUBSCRIBE\"),\n",
    "  (f.sum(\"THEME_OPEN\") / f.sum(\"THEME_SENT\")).alias(\"theme_open_rate\"),\n",
    "  (f.sum(\"THEME_CLICK\") / f.sum(\"THEME_SENT\")).alias(\"theme_click_rate\"),\n",
    "  f.sum(\"DEPT_SENT\").alias(\"DEPT_SENT\"),\n",
    "  f.sum(\"DEPT_OPEN\").alias(\"DEPT_OPEN\"),\n",
    "  f.sum(\"DEPT_CLICK\").alias(\"DEPT_CLICK\"),\n",
    "  f.sum(\"DEPT_UNSUBSCRIBE\").alias(\"DEPT_UNSUBSCRIBE\"),\n",
    "  (f.sum(\"DEPT_OPEN\") / f.sum(\"DEPT_SENT\")).alias(\"dept_open_rate\"),\n",
    "  (f.sum(\"DEPT_CLICK\") / f.sum(\"DEPT_SENT\")).alias(\"dept_click_rate\"),\n",
    ")\n",
    "\n",
    "funlo_aggs.write.mode(\"overwrite\").saveAsTable(f\"sandbox_dev.tm_learning.funlo_rollup_agg\")"
   ]
  },
  {
   "cell_type": "code",
   "execution_count": 0,
   "metadata": {
    "application/vnd.databricks.v1+cell": {
     "cellMetadata": {
      "byteLimit": 2048000,
      "rowLimit": 10000
     },
     "inputWidgets": {},
     "nuid": "f0b2c1d5-c961-4af7-9687-d32089e1afaf",
     "showTitle": false,
     "tableResultSettingsMap": {},
     "title": ""
    }
   },
   "outputs": [],
   "source": [
    "funlo_seg_aggs = funlo_feature.groupBy(\"funlo_seg_desc\", \"EMAIL_THEME\", \"DEPARTMENT\").agg(\n",
    "  f.countDistinct(\"guid\").alias(\"Unique_Guids\"),\n",
    "  f.countDistinct(\"ehhn\").alias(\"Unique_Households\"),\n",
    "  f.sum(\"THEME_SENT\").alias(\"THEME_SENT\"),\n",
    "  f.sum(\"THEME_OPEN\").alias(\"THEME_OPEN\"),\n",
    "  f.sum(\"THEME_CLICK\").alias(\"THEME_CLICK\"),\n",
    "  f.sum(\"THEME_UNSUBSCRIBE\").alias(\"THEME_UNSUBSCRIBE\"),\n",
    "  (f.sum(\"THEME_OPEN\") / f.sum(\"THEME_SENT\")).alias(\"theme_open_rate\"),\n",
    "  (f.sum(\"THEME_CLICK\") / f.sum(\"THEME_SENT\")).alias(\"theme_click_rate\"),\n",
    "  f.sum(\"DEPT_SENT\").alias(\"DEPT_SENT\"),\n",
    "  f.sum(\"DEPT_OPEN\").alias(\"DEPT_OPEN\"),\n",
    "  f.sum(\"DEPT_CLICK\").alias(\"DEPT_CLICK\"),\n",
    "  f.sum(\"DEPT_UNSUBSCRIBE\").alias(\"DEPT_UNSUBSCRIBE\"),\n",
    "  (f.sum(\"DEPT_OPEN\") / f.sum(\"DEPT_SENT\")).alias(\"dept_open_rate\"),\n",
    "  (f.sum(\"DEPT_CLICK\") / f.sum(\"DEPT_SENT\")).alias(\"dept_click_rate\"),\n",
    ")\n",
    "\n",
    "funlo_aggs.write.mode(\"overwrite\").saveAsTable(f\"sandbox_dev.tm_learning.funlo_seg_agg\")"
   ]
  },
  {
   "cell_type": "markdown",
   "metadata": {
    "application/vnd.databricks.v1+cell": {
     "cellMetadata": {
      "byteLimit": 2048000,
      "rowLimit": 10000
     },
     "inputWidgets": {},
     "nuid": "936bbbb4-bd51-4683-8110-b5750fdb1fe1",
     "showTitle": false,
     "tableResultSettingsMap": {},
     "title": ""
    }
   },
   "source": [
    "## Aggs"
   ]
  },
  {
   "cell_type": "markdown",
   "metadata": {
    "application/vnd.databricks.v1+cell": {
     "cellMetadata": {
      "byteLimit": 2048000,
      "rowLimit": 10000
     },
     "inputWidgets": {},
     "nuid": "18aaf03c-20c7-45bf-a7d4-760bf9c7d133",
     "showTitle": false,
     "tableResultSettingsMap": {},
     "title": ""
    }
   },
   "source": [
    "# CDS\n"
   ]
  },
  {
   "cell_type": "markdown",
   "metadata": {
    "application/vnd.databricks.v1+cell": {
     "cellMetadata": {
      "byteLimit": 2048000,
      "rowLimit": 10000
     },
     "inputWidgets": {},
     "nuid": "39cd6883-9b9f-4bd2-82d6-14fd30675926",
     "showTitle": false,
     "tableResultSettingsMap": {},
     "title": ""
    }
   },
   "source": [
    "## Get Data/Run joins"
   ]
  },
  {
   "cell_type": "code",
   "execution_count": 0,
   "metadata": {
    "application/vnd.databricks.v1+cell": {
     "cellMetadata": {
      "byteLimit": 2048000,
      "rowLimit": 10000
     },
     "inputWidgets": {},
     "nuid": "9f1b9c2a-1d94-4978-960d-ef4e3f079a3f",
     "showTitle": false,
     "tableResultSettingsMap": {},
     "title": ""
    }
   },
   "outputs": [],
   "source": [
    "cds = seg.get_seg_for_date('cds_4_hh', '20250214')"
   ]
  },
  {
   "cell_type": "code",
   "execution_count": 0,
   "metadata": {
    "application/vnd.databricks.v1+cell": {
     "cellMetadata": {},
     "inputWidgets": {},
     "nuid": "4fcc6fbd-d28e-4700-a17f-7baeba0cb7c6",
     "showTitle": false,
     "tableResultSettingsMap": {},
     "title": ""
    }
   },
   "outputs": [],
   "source": [
    "segs_and_email = funlo_feature.join(cds, on = \"ehhn\", how = \"inner\")"
   ]
  },
  {
   "cell_type": "code",
   "execution_count": 0,
   "metadata": {
    "application/vnd.databricks.v1+cell": {
     "cellMetadata": {},
     "inputWidgets": {},
     "nuid": "7ecd7f83-97c9-478f-a1ce-2ef77db58a01",
     "showTitle": false,
     "tableResultSettingsMap": {},
     "title": ""
    }
   },
   "outputs": [],
   "source": [
    "segs_and_email.write.mode(\"overwrite\").saveAsTable(f\"sandbox_dev.tm_learning.segs_and_rates\")"
   ]
  },
  {
   "cell_type": "markdown",
   "metadata": {
    "application/vnd.databricks.v1+cell": {
     "cellMetadata": {
      "byteLimit": 2048000,
      "rowLimit": 10000
     },
     "inputWidgets": {},
     "nuid": "5da6f2fd-bce6-442f-bf2c-2e1f0032fcf9",
     "showTitle": false,
     "tableResultSettingsMap": {},
     "title": ""
    }
   },
   "source": [
    "## Aggs\n"
   ]
  },
  {
   "cell_type": "code",
   "execution_count": 0,
   "metadata": {
    "application/vnd.databricks.v1+cell": {
     "cellMetadata": {},
     "inputWidgets": {},
     "nuid": "9abd5b03-c9b8-42cb-be16-ef42a20aa4a9",
     "showTitle": false,
     "tableResultSettingsMap": {},
     "title": ""
    }
   },
   "outputs": [],
   "source": [
    "price_seg = segs_and_email.groupBy(\"price_dim_seg\", \"EMAIL_THEME\", \"DEPARTMENT\").agg(\n",
    "  f.countDistinct(\"guid\").alias(\"Unique_Guids\"),\n",
    "  f.countDistinct(\"ehhn\").alias(\"Unique_Households\"),\n",
    "  f.sum(\"THEME_SENT\").alias(\"THEME_SENT\"),\n",
    "  f.sum(\"THEME_OPEN\").alias(\"THEME_OPEN\"),\n",
    "  f.sum(\"THEME_CLICK\").alias(\"THEME_CLICK\"),\n",
    "  f.sum(\"THEME_UNSUBSCRIBE\").alias(\"THEME_UNSUBSCRIBE\"),\n",
    "  (f.sum(\"THEME_OPEN\") / f.sum(\"THEME_SENT\")).alias(\"theme_open_rate\"),\n",
    "  (f.sum(\"THEME_CLICK\") / f.sum(\"THEME_SENT\")).alias(\"theme_click_rate\"),\n",
    "  f.sum(\"DEPT_SENT\").alias(\"DEPT_SENT\"),\n",
    "  f.sum(\"DEPT_OPEN\").alias(\"DEPT_OPEN\"),\n",
    "  f.sum(\"DEPT_CLICK\").alias(\"DEPT_CLICK\"),\n",
    "  f.sum(\"DEPT_UNSUBSCRIBE\").alias(\"DEPT_UNSUBSCRIBE\"),\n",
    "  (f.sum(\"DEPT_OPEN\") / f.sum(\"DEPT_SENT\")).alias(\"dept_open_rate\"),\n",
    "  (f.sum(\"DEPT_CLICK\") / f.sum(\"DEPT_SENT\")).alias(\"dept_click_rate\"),\n",
    ")\n",
    "\n",
    "price_seg.write.mode(\"overwrite\").saveAsTable(f\"sandbox_dev.tm_learning.price_seg_agg\")"
   ]
  },
  {
   "cell_type": "code",
   "execution_count": 0,
   "metadata": {
    "application/vnd.databricks.v1+cell": {
     "cellMetadata": {},
     "inputWidgets": {},
     "nuid": "7c2f9173-537f-4001-8f66-9560536c2297",
     "showTitle": false,
     "tableResultSettingsMap": {},
     "title": ""
    }
   },
   "outputs": [],
   "source": [
    "health_seg  = segs_and_email.groupBy(\"health_dim_seg\", \"EMAIL_THEME\", \"DEPARTMENT\").agg(\n",
    "  f.countDistinct(\"guid\").alias(\"Unique_Guids\"),\n",
    "  f.countDistinct(\"ehhn\").alias(\"Unique_Households\"),\n",
    "  f.sum(\"THEME_SENT\").alias(\"THEME_SENT\"),\n",
    "  f.sum(\"THEME_OPEN\").alias(\"THEME_OPEN\"),\n",
    "  f.sum(\"THEME_CLICK\").alias(\"THEME_CLICK\"),\n",
    "  f.sum(\"THEME_UNSUBSCRIBE\").alias(\"THEME_UNSUBSCRIBE\"),\n",
    "  (f.sum(\"THEME_OPEN\") / f.sum(\"THEME_SENT\")).alias(\"theme_open_rate\"),\n",
    "  (f.sum(\"THEME_CLICK\") / f.sum(\"THEME_SENT\")).alias(\"theme_click_rate\"),\n",
    "  f.sum(\"DEPT_SENT\").alias(\"DEPT_SENT\"),\n",
    "  f.sum(\"DEPT_OPEN\").alias(\"DEPT_OPEN\"),\n",
    "  f.sum(\"DEPT_CLICK\").alias(\"DEPT_CLICK\"),\n",
    "  f.sum(\"DEPT_UNSUBSCRIBE\").alias(\"DEPT_UNSUBSCRIBE\"),\n",
    "  (f.sum(\"DEPT_OPEN\") / f.sum(\"DEPT_SENT\")).alias(\"dept_open_rate\"),\n",
    "  (f.sum(\"DEPT_CLICK\") / f.sum(\"DEPT_SENT\")).alias(\"dept_click_rate\"),\n",
    ")\n",
    "\n",
    "health_seg.write.mode(\"overwrite\").saveAsTable(f\"sandbox_dev.tm_learning.health_seg_agg\")"
   ]
  },
  {
   "cell_type": "code",
   "execution_count": 0,
   "metadata": {
    "application/vnd.databricks.v1+cell": {
     "cellMetadata": {},
     "inputWidgets": {},
     "nuid": "ab801756-3a0e-4e10-b889-8147b235753e",
     "showTitle": false,
     "tableResultSettingsMap": {},
     "title": ""
    }
   },
   "outputs": [],
   "source": [
    "quality_seg  = segs_and_email.groupBy(\"quality_dim_seg\", \"EMAIL_THEME\", \"DEPARTMENT\").agg(\n",
    "  f.countDistinct(\"guid\").alias(\"Unique_Guids\"),\n",
    "  f.countDistinct(\"ehhn\").alias(\"Unique_Households\"),\n",
    "  f.sum(\"THEME_SENT\").alias(\"THEME_SENT\"),\n",
    "  f.sum(\"THEME_OPEN\").alias(\"THEME_OPEN\"),\n",
    "  f.sum(\"THEME_CLICK\").alias(\"THEME_CLICK\"),\n",
    "  f.sum(\"THEME_UNSUBSCRIBE\").alias(\"THEME_UNSUBSCRIBE\"),\n",
    "  (f.sum(\"THEME_OPEN\") / f.sum(\"THEME_SENT\")).alias(\"theme_open_rate\"),\n",
    "  (f.sum(\"THEME_CLICK\") / f.sum(\"THEME_SENT\")).alias(\"theme_click_rate\"),\n",
    "  f.sum(\"DEPT_SENT\").alias(\"DEPT_SENT\"),\n",
    "  f.sum(\"DEPT_OPEN\").alias(\"DEPT_OPEN\"),\n",
    "  f.sum(\"DEPT_CLICK\").alias(\"DEPT_CLICK\"),\n",
    "  f.sum(\"DEPT_UNSUBSCRIBE\").alias(\"DEPT_UNSUBSCRIBE\"),\n",
    "  (f.sum(\"DEPT_OPEN\") / f.sum(\"DEPT_SENT\")).alias(\"dept_open_rate\"),\n",
    "  (f.sum(\"DEPT_CLICK\") / f.sum(\"DEPT_SENT\")).alias(\"dept_click_rate\"),\n",
    ")\n",
    "\n",
    "quality_seg.write.mode(\"overwrite\").saveAsTable(f\"sandbox_dev.tm_learning.quality_seg_agg\")"
   ]
  },
  {
   "cell_type": "code",
   "execution_count": 0,
   "metadata": {
    "application/vnd.databricks.v1+cell": {
     "cellMetadata": {},
     "inputWidgets": {},
     "nuid": "55b0fcf5-c756-41e8-a483-fe7348b58c74",
     "showTitle": false,
     "tableResultSettingsMap": {},
     "title": ""
    }
   },
   "outputs": [],
   "source": [
    "convenience_seg  = segs_and_email.groupBy(\"convenience_dim_seg\", \"EMAIL_THEME\", \"DEPARTMENT\").agg(\n",
    "  f.countDistinct(\"guid\").alias(\"Unique_Guids\"),\n",
    "  f.countDistinct(\"ehhn\").alias(\"Unique_Households\"),\n",
    "  f.sum(\"THEME_SENT\").alias(\"THEME_SENT\"),\n",
    "  f.sum(\"THEME_OPEN\").alias(\"THEME_OPEN\"),\n",
    "  f.sum(\"THEME_CLICK\").alias(\"THEME_CLICK\"),\n",
    "  f.sum(\"THEME_UNSUBSCRIBE\").alias(\"THEME_UNSUBSCRIBE\"),\n",
    "  (f.sum(\"THEME_OPEN\") / f.sum(\"THEME_SENT\")).alias(\"theme_open_rate\"),\n",
    "  (f.sum(\"THEME_CLICK\") / f.sum(\"THEME_SENT\")).alias(\"theme_click_rate\"),\n",
    "  f.sum(\"DEPT_SENT\").alias(\"DEPT_SENT\"),\n",
    "  f.sum(\"DEPT_OPEN\").alias(\"DEPT_OPEN\"),\n",
    "  f.sum(\"DEPT_CLICK\").alias(\"DEPT_CLICK\"),\n",
    "  f.sum(\"DEPT_UNSUBSCRIBE\").alias(\"DEPT_UNSUBSCRIBE\"),\n",
    "  (f.sum(\"DEPT_OPEN\") / f.sum(\"DEPT_SENT\")).alias(\"dept_open_rate\"),\n",
    "  (f.sum(\"DEPT_CLICK\") / f.sum(\"DEPT_SENT\")).alias(\"dept_click_rate\"),\n",
    ")\n",
    "\n",
    "\n",
    "convenience_seg.write.mode(\"overwrite\").saveAsTable(f\"sandbox_dev.tm_learning.convenience_seg_agg\")"
   ]
  },
  {
   "cell_type": "code",
   "execution_count": 0,
   "metadata": {
    "application/vnd.databricks.v1+cell": {
     "cellMetadata": {},
     "inputWidgets": {},
     "nuid": "e32703af-eade-49ee-a6c6-8f14da2603a1",
     "showTitle": false,
     "tableResultSettingsMap": {},
     "title": ""
    }
   },
   "outputs": [],
   "source": [
    "variety_seg  = segs_and_email.groupBy(\"variety_seeking_dim_seg\", \"EMAIL_THEME\", \"DEPARTMENT\").agg(\n",
    "  f.countDistinct(\"guid\").alias(\"Unique_Guids\"),\n",
    "  f.countDistinct(\"ehhn\").alias(\"Unique_Households\"),\n",
    "  f.sum(\"THEME_SENT\").alias(\"THEME_SENT\"),\n",
    "  f.sum(\"THEME_OPEN\").alias(\"THEME_OPEN\"),\n",
    "  f.sum(\"THEME_CLICK\").alias(\"THEME_CLICK\"),\n",
    "  f.sum(\"THEME_UNSUBSCRIBE\").alias(\"THEME_UNSUBSCRIBE\"),\n",
    "  (f.sum(\"THEME_OPEN\") / f.sum(\"THEME_SENT\")).alias(\"theme_open_rate\"),\n",
    "  (f.sum(\"THEME_CLICK\") / f.sum(\"THEME_SENT\")).alias(\"theme_click_rate\"),\n",
    "  f.sum(\"DEPT_SENT\").alias(\"DEPT_SENT\"),\n",
    "  f.sum(\"DEPT_OPEN\").alias(\"DEPT_OPEN\"),\n",
    "  f.sum(\"DEPT_CLICK\").alias(\"DEPT_CLICK\"),\n",
    "  f.sum(\"DEPT_UNSUBSCRIBE\").alias(\"DEPT_UNSUBSCRIBE\"),\n",
    "  (f.sum(\"DEPT_OPEN\") / f.sum(\"DEPT_SENT\")).alias(\"dept_open_rate\"),\n",
    "  (f.sum(\"DEPT_CLICK\") / f.sum(\"DEPT_SENT\")).alias(\"dept_click_rate\"),\n",
    ")\n",
    "\n",
    "variety_seg.write.mode(\"overwrite\").saveAsTable(f\"sandbox_dev.tm_learning.variety_seg_agg\")"
   ]
  },
  {
   "cell_type": "markdown",
   "metadata": {
    "application/vnd.databricks.v1+cell": {
     "cellMetadata": {
      "byteLimit": 2048000,
      "rowLimit": 10000
     },
     "inputWidgets": {},
     "nuid": "f3c4a598-3b0c-4738-997b-23b4011c0028",
     "showTitle": false,
     "tableResultSettingsMap": {},
     "title": ""
    }
   },
   "source": [
    "#ACDS"
   ]
  },
  {
   "cell_type": "code",
   "execution_count": 0,
   "metadata": {
    "application/vnd.databricks.v1+cell": {
     "cellMetadata": {
      "byteLimit": 2048000,
      "rowLimit": 10000
     },
     "inputWidgets": {},
     "nuid": "0c10d688-4689-481a-b6d0-4fbae45d902c",
     "showTitle": false,
     "tableResultSettingsMap": {},
     "title": ""
    }
   },
   "outputs": [],
   "source": [
    "acds = ACDS(use_sample_mart=True)"
   ]
  },
  {
   "cell_type": "code",
   "execution_count": 0,
   "metadata": {
    "application/vnd.databricks.v1+cell": {
     "cellMetadata": {
      "byteLimit": 2048000,
      "rowLimit": 10000
     },
     "inputWidgets": {},
     "nuid": "7a7d6ca0-b205-46f6-ac89-a5085a252531",
     "showTitle": false,
     "tableResultSettingsMap": {},
     "title": ""
    }
   },
   "outputs": [],
   "source": [
    "transactions =  acds.get_transactions(start_date='2024-08-02', end_date = \"2025-02-01\")"
   ]
  },
  {
   "cell_type": "markdown",
   "metadata": {
    "application/vnd.databricks.v1+cell": {
     "cellMetadata": {
      "byteLimit": 2048000,
      "rowLimit": 10000
     },
     "inputWidgets": {},
     "nuid": "4cf20fa8-bfb8-4c2d-8420-d8ed236861b8",
     "showTitle": false,
     "tableResultSettingsMap": {},
     "title": ""
    }
   },
   "source": [
    "## KPI"
   ]
  },
  {
   "cell_type": "markdown",
   "metadata": {
    "application/vnd.databricks.v1+cell": {
     "cellMetadata": {
      "byteLimit": 2048000,
      "rowLimit": 10000
     },
     "inputWidgets": {},
     "nuid": "f2f9f6b8-60b9-4623-8888-57caf85c0246",
     "showTitle": false,
     "tableResultSettingsMap": {},
     "title": ""
    }
   },
   "source": [
    "'last_sold_date',  \n",
    " 'sales',  \n",
    " 'gross_sales',  \n",
    " 'units',  \n",
    " 'visits',  \n",
    " 'gr_visits',  \n",
    " 'households',  \n",
    " 'gr_households',  \n",
    " 'sales_per_household',  \n",
    " 'units_per_household',  \n",
    " 'visits_per_household',  \n",
    " 'sales_per_visit',  \n",
    " 'units_per_visit',  \n",
    " 'sales_per_unit',  \n",
    " 'product_count',  \n",
    " 'stores_selling',  \n",
    " 'sales_per_store',  \n",
    " 'units_per_store',  \n",
    " 'kroger_coupon_discount_sales',  \n",
    " 'kroger_coupon_discount_units',  \n",
    " 'kroger_match_coupon_discount_sales',  \n",
    " 'kroger_match_coupon_discount_units',  \n",
    " 'vendor_discount_sales',  \n",
    " 'vendor_discount_units',  \n",
    " 'retailer_loyalty_discount_sales',  \n",
    " 'retailer_loyalty_discount_units',  \n",
    " 'total_discount_sales',  \n",
    " 'total_discount_units'  "
   ]
  },
  {
   "cell_type": "code",
   "execution_count": 0,
   "metadata": {
    "application/vnd.databricks.v1+cell": {
     "cellMetadata": {
      "byteLimit": 2048000,
      "rowLimit": 10000
     },
     "inputWidgets": {},
     "nuid": "bf2aed25-aff6-4fd2-bdd0-d54ebe366504",
     "showTitle": false,
     "tableResultSettingsMap": {},
     "title": ""
    }
   },
   "outputs": [],
   "source": [
    "kpi = KPI(use_sample_mart=True)"
   ]
  }
 ],
 "metadata": {
  "application/vnd.databricks.v1+notebook": {
   "computePreferences": null,
   "dashboards": [],
   "environmentMetadata": {
    "base_environment": "",
    "environment_version": "2"
   },
   "language": "python",
   "notebookMetadata": {
    "pythonIndentUnit": 2
   },
   "notebookName": "subhi_ps2",
   "widgets": {}
  },
  "language_info": {
   "name": "python"
  }
 },
 "nbformat": 4,
 "nbformat_minor": 0
}
