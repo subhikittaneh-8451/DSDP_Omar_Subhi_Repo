{
 "cells": [
  {
   "cell_type": "code",
   "execution_count": 0,
   "metadata": {
    "application/vnd.databricks.v1+cell": {
     "cellMetadata": {
      "byteLimit": 2048000,
      "rowLimit": 10000
     },
     "inputWidgets": {},
     "nuid": "72af6bd2-d0ac-4c3e-ad96-b72f9b67df98",
     "showTitle": false,
     "tableResultSettingsMap": {},
     "title": ""
    }
   },
   "outputs": [],
   "source": [
    "%pip install --quiet airspace"
   ]
  },
  {
   "cell_type": "code",
   "execution_count": 0,
   "metadata": {
    "application/vnd.databricks.v1+cell": {
     "cellMetadata": {
      "byteLimit": 2048000,
      "rowLimit": 10000
     },
     "inputWidgets": {},
     "nuid": "747d893e-9192-419f-a3a6-54ff525a5a47",
     "showTitle": false,
     "tableResultSettingsMap": {},
     "title": ""
    }
   },
   "outputs": [],
   "source": [
    "dbutils.library.restartPython()"
   ]
  },
  {
   "cell_type": "code",
   "execution_count": 0,
   "metadata": {
    "application/vnd.databricks.v1+cell": {
     "cellMetadata": {
      "byteLimit": 2048000,
      "rowLimit": 10000
     },
     "inputWidgets": {},
     "nuid": "fe43230e-77d4-4608-84c3-1902f3272790",
     "showTitle": false,
     "tableResultSettingsMap": {},
     "title": ""
    }
   },
   "outputs": [],
   "source": [
    "# Setup\n",
    "import datetime\n",
    "import logging\n",
    "import os\n",
    "import sys\n",
    "\n",
    "import numpy as np\n",
    "import pandas as pd\n",
    "\n",
    "import airspace\n",
    "\n",
    "from effodata import ACDS, golden_rules, Sifter, Equality, Joiner, Lambda\n",
    "from kpi_metrics import KPI, available_metrics as  amKPI, get_metrics, AliasMetric, AliasGroupby, CustomMetric\n",
    "\n",
    "import seg\n",
    "\n",
    "from pyspark.ml.feature import QuantileDiscretizer\n",
    "from pyspark.sql import SparkSession\n",
    "import pyspark.sql.functions as f\n",
    "from pyspark.sql.types import (\n",
    "    StructType,\n",
    "    StructField,\n",
    "    IntegerType,\n",
    "    StringType,\n",
    "    FloatType,\n",
    "    DateType,\n",
    "    TimestampType,\n",
    ")\n",
    "from pyspark.sql.window import Window\n",
    "from pyspark.sql.functions import to_date, regexp_replace\n",
    "from delta.tables import DeltaTable\n",
    "from kayday import KrogerDate\n",
    "import dateutil.relativedelta\n",
    "# spark = SparkSession.builder.getOrCreate()\n",
    "logging.getLogger().setLevel(logging.INFO)\n"
   ]
  },
  {
   "cell_type": "code",
   "execution_count": 0,
   "metadata": {
    "application/vnd.databricks.v1+cell": {
     "cellMetadata": {
      "byteLimit": 2048000,
      "rowLimit": 10000
     },
     "inputWidgets": {},
     "nuid": "85321a4e-6103-4462-a4b2-742970d42ef1",
     "showTitle": false,
     "tableResultSettingsMap": {},
     "title": ""
    }
   },
   "outputs": [],
   "source": [
    "config = {\n",
    "  'start_date': '20240802',\n",
    "  'end_date' : '20250130'\n",
    "}"
   ]
  },
  {
   "cell_type": "markdown",
   "metadata": {
    "application/vnd.databricks.v1+cell": {
     "cellMetadata": {
      "byteLimit": 2048000,
      "rowLimit": 10000
     },
     "inputWidgets": {},
     "nuid": "df26a302-ae81-40f6-a331-b3f90559eb26",
     "showTitle": false,
     "tableResultSettingsMap": {},
     "title": ""
    }
   },
   "source": [
    "# Configure FUNLO, ACDs, ETC"
   ]
  },
  {
   "cell_type": "code",
   "execution_count": 0,
   "metadata": {
    "application/vnd.databricks.v1+cell": {
     "cellMetadata": {
      "byteLimit": 2048000,
      "rowLimit": 10000
     },
     "inputWidgets": {},
     "nuid": "ebbfaabe-5c8f-44ba-aa32-aa67dc4df7bb",
     "showTitle": false,
     "tableResultSettingsMap": {},
     "title": ""
    }
   },
   "outputs": [],
   "source": [
    "funlo = seg.get_seg_for_date(\n",
    "  'funlo',\n",
    "'2025-01-30', \n",
    "  )"
   ]
  },
  {
   "cell_type": "code",
   "execution_count": 0,
   "metadata": {
    "application/vnd.databricks.v1+cell": {
     "cellMetadata": {
      "byteLimit": 2048000,
      "rowLimit": 10000
     },
     "inputWidgets": {},
     "nuid": "e010fab0-0eea-4044-8629-12efe397654f",
     "showTitle": false,
     "tableResultSettingsMap": {},
     "title": ""
    }
   },
   "outputs": [],
   "source": [
    "active_guids_ehhns = airspace.email_households(config)"
   ]
  },
  {
   "cell_type": "code",
   "execution_count": 0,
   "metadata": {
    "application/vnd.databricks.v1+cell": {
     "cellMetadata": {
      "byteLimit": 2048000,
      "rowLimit": 10000
     },
     "inputWidgets": {},
     "nuid": "6fa57798-28e2-4784-988b-2de7d8261413",
     "showTitle": false,
     "tableResultSettingsMap": {},
     "title": ""
    }
   },
   "outputs": [],
   "source": [
    "cds = seg.get_seg_for_date('cds_4_hh', '20250130')"
   ]
  },
  {
   "cell_type": "code",
   "execution_count": 0,
   "metadata": {
    "application/vnd.databricks.v1+cell": {
     "cellMetadata": {
      "byteLimit": 2048000,
      "rowLimit": 10000
     },
     "inputWidgets": {},
     "nuid": "9edcae15-0e10-4c17-8a84-5e4b4169a01b",
     "showTitle": false,
     "tableResultSettingsMap": {},
     "title": ""
    }
   },
   "outputs": [],
   "source": [
    "acds = ACDS()"
   ]
  },
  {
   "cell_type": "code",
   "execution_count": 0,
   "metadata": {
    "application/vnd.databricks.v1+cell": {
     "cellMetadata": {
      "byteLimit": 2048000,
      "rowLimit": 10000
     },
     "inputWidgets": {},
     "nuid": "08dea179-d148-4665-949a-88958b71e237",
     "showTitle": false,
     "tableResultSettingsMap": {},
     "title": ""
    }
   },
   "outputs": [],
   "source": [
    "transactions = acds.get_transactions(\n",
    "  start_date='20240802', \n",
    "  end_date=\"20250130\")"
   ]
  },
  {
   "cell_type": "markdown",
   "metadata": {
    "application/vnd.databricks.v1+cell": {
     "cellMetadata": {
      "byteLimit": 2048000,
      "rowLimit": 10000
     },
     "inputWidgets": {},
     "nuid": "95443088-167d-4175-8bcd-28349ed2d809",
     "showTitle": false,
     "tableResultSettingsMap": {},
     "title": ""
    }
   },
   "source": [
    "# The Control Group"
   ]
  },
  {
   "cell_type": "markdown",
   "metadata": {
    "application/vnd.databricks.v1+cell": {
     "cellMetadata": {
      "byteLimit": 2048000,
      "rowLimit": 10000
     },
     "inputWidgets": {},
     "nuid": "0cd07c49-0fa8-4bb2-ab07-950093b2a109",
     "showTitle": false,
     "tableResultSettingsMap": {},
     "title": ""
    }
   },
   "source": [
    "##Read in control tables\n",
    "\n",
    "And Verify that logic for getting entire group Open rate makes sense\n"
   ]
  },
  {
   "cell_type": "code",
   "execution_count": 0,
   "metadata": {
    "application/vnd.databricks.v1+cell": {
     "cellMetadata": {
      "byteLimit": 2048000,
      "rowLimit": 10000
     },
     "inputWidgets": {},
     "nuid": "48fc923f-ccc7-4691-8180-750e467a3f50",
     "showTitle": false,
     "tableResultSettingsMap": {},
     "title": ""
    }
   },
   "outputs": [],
   "source": [
    "control = spark.read.table(\"sandbox_dev.tm_learning.final_all_control\")\n",
    "control.select(\"guid\").distinct().count()"
   ]
  },
  {
   "cell_type": "code",
   "execution_count": 0,
   "metadata": {
    "application/vnd.databricks.v1+cell": {
     "cellMetadata": {
      "byteLimit": 2048000,
      "rowLimit": 10000
     },
     "inputWidgets": {},
     "nuid": "29a972c2-135b-4676-8356-1b13ad0ecf03",
     "showTitle": false,
     "tableResultSettingsMap": {},
     "title": ""
    }
   },
   "outputs": [],
   "source": [
    "\n",
    "control = control.join(active_guids_ehhns, on = \"guid\", how  = \"inner\")"
   ]
  },
  {
   "cell_type": "markdown",
   "metadata": {
    "application/vnd.databricks.v1+cell": {
     "cellMetadata": {
      "byteLimit": 2048000,
      "rowLimit": 10000
     },
     "inputWidgets": {},
     "nuid": "c1cdbec3-08a5-4efc-acb7-6d816aae68e8",
     "showTitle": false,
     "tableResultSettingsMap": {},
     "title": ""
    }
   },
   "source": [
    "##Getting  Open Rate for Overall Group"
   ]
  },
  {
   "cell_type": "code",
   "execution_count": 0,
   "metadata": {
    "application/vnd.databricks.v1+cell": {
     "cellMetadata": {
      "byteLimit": 2048000,
      "rowLimit": 10000
     },
     "inputWidgets": {},
     "nuid": "11bd6810-2d22-48e3-b0da-487f5607e1c7",
     "showTitle": false,
     "tableResultSettingsMap": {},
     "title": ""
    }
   },
   "outputs": [],
   "source": [
    "control_sum = control.select(\"guid\", \"DEPT\", \"DEPT_OPEN\",\"DEPT_UNSUBSCRIBE\", \"DEPT_SENT\").dropDuplicates()\n",
    "control_sum.agg(f.sum(\"DEPT_OPEN\") / f.sum(\"DEPT_SENT\")).display()"
   ]
  },
  {
   "cell_type": "markdown",
   "metadata": {
    "application/vnd.databricks.v1+cell": {
     "cellMetadata": {
      "byteLimit": 2048000,
      "rowLimit": 10000
     },
     "inputWidgets": {},
     "nuid": "4a3232a8-d7d2-4d46-9dcd-da0bb1ba5099",
     "showTitle": false,
     "tableResultSettingsMap": {},
     "title": ""
    }
   },
   "source": [
    "## Getting Unsubscribe Rates for the overall group"
   ]
  },
  {
   "cell_type": "code",
   "execution_count": 0,
   "metadata": {
    "application/vnd.databricks.v1+cell": {
     "cellMetadata": {
      "byteLimit": 2048000,
      "rowLimit": 10000
     },
     "inputWidgets": {},
     "nuid": "d94b0a82-6cc2-46fd-a5e2-befa5e63ef7c",
     "showTitle": false,
     "tableResultSettingsMap": {},
     "title": ""
    }
   },
   "outputs": [],
   "source": [
    "control_sum = control.select(\"guid\", \"DEPT\", \"DEPT_OPEN\",\"DEPT_UNSUBSCRIBE\", \"DEPT_SENT\").dropDuplicates()\n",
    "control_sum.agg(f.sum(\"DEPT_UNSUBSCRIBE\") / f.sum(\"DEPT_OPEN\")).display()"
   ]
  },
  {
   "cell_type": "markdown",
   "metadata": {
    "application/vnd.databricks.v1+cell": {
     "cellMetadata": {},
     "inputWidgets": {},
     "nuid": "fce4d25d-da08-452d-b8e4-1280fd996135",
     "showTitle": false,
     "tableResultSettingsMap": {},
     "title": ""
    }
   },
   "source": [
    "## OPEN RATE BY OLD TAGS"
   ]
  },
  {
   "cell_type": "code",
   "execution_count": 0,
   "metadata": {
    "application/vnd.databricks.v1+cell": {
     "cellMetadata": {
      "byteLimit": 2048000,
      "rowLimit": 10000
     },
     "inputWidgets": {},
     "nuid": "4d358913-75e0-4369-a753-a6cdd97c2b5a",
     "showTitle": false,
     "tableResultSettingsMap": {},
     "title": ""
    }
   },
   "outputs": [],
   "source": [
    "control_old_tags = control.select(\"guid\", \"EMAIL_TYPE_OLD_TAG\", \"EMAIL_TYPE_OLD_TAG_OPEN\",\"EMAIL_TYPE_OLD_TAG_UNSUBSCRIBE\", \"EMAIL_TYPE_OLD_TAG_SENT\").dropDuplicates()\n",
    "\n",
    "control_old_tags.groupBy(\"EMAIL_TYPE_OLD_TAG\").agg(f.sum(\"EMAIL_TYPE_OLD_TAG_OPEN\"). f.sum(\"EMAIL_TYPE_OLD_TAG_SENT\"),\n",
    "                                               f.sum(\"EMAIL_TYPE_OLD_TAG_UNSUBSCRIBE\"), f.sum(\"EMAIL_TYPE_OLD_TAG_OPEN\") / f.sum(\"EMAIL_TYPE_OLD_TAG_SENT\")).display()"
   ]
  },
  {
   "cell_type": "code",
   "execution_count": 0,
   "metadata": {
    "application/vnd.databricks.v1+cell": {
     "cellMetadata": {
      "byteLimit": 2048000,
      "rowLimit": 10000
     },
     "inputWidgets": {},
     "nuid": "e298b521-682f-4dae-bfe5-68d5e9646b07",
     "showTitle": false,
     "tableResultSettingsMap": {},
     "title": ""
    }
   },
   "outputs": [],
   "source": [
    "\n",
    "control_old_tags = control.select(\"guid\", \"EMAIL_TYPE_OLD_TAG\", \"EMAIL_TYPE_OLD_TAG_OPEN\",\"EMAIL_TYPE_OLD_TAG_UNSUBSCRIBE\", \"EMAIL_TYPE_OLD_TAG_SENT\").dropDuplicates()\n",
    "\n",
    "control_old_tags.groupBy(\"EMAIL_TYPE_OLD_TAG\").agg(f.sum(\"EMAIL_TYPE_OLD_TAG_OPEN\"). f.sum(\"EMAIL_TYPE_OLD_TAG_SENT\"),\n",
    "                                               f.sum(\"EMAIL_TYPE_OLD_TAG_UNSUBSCRIBE\"), f.sum(\"EMAIL_TYPE_OLD_TAG_OPEN\") / f.sum(\"EMAIL_TYPE_OLD_TAG_SENT\")).display()"
   ]
  },
  {
   "cell_type": "markdown",
   "metadata": {
    "application/vnd.databricks.v1+cell": {
     "cellMetadata": {
      "byteLimit": 2048000,
      "rowLimit": 10000
     },
     "inputWidgets": {},
     "nuid": "548c744a-f5aa-4c43-9d59-5dda89d51da1",
     "showTitle": false,
     "tableResultSettingsMap": {},
     "title": ""
    }
   },
   "source": [
    "## FUNLO X CONTROL"
   ]
  },
  {
   "cell_type": "code",
   "execution_count": 0,
   "metadata": {
    "application/vnd.databricks.v1+cell": {
     "cellMetadata": {
      "byteLimit": 2048000,
      "rowLimit": 10000
     },
     "inputWidgets": {},
     "nuid": "acade164-5cd9-4f52-a835-74afbfe4cf4e",
     "showTitle": false,
     "tableResultSettingsMap": {},
     "title": ""
    }
   },
   "outputs": [],
   "source": [
    "controlo = control.join(funlo, on = \"ehhn\", how = \"inner\")"
   ]
  },
  {
   "cell_type": "code",
   "execution_count": 0,
   "metadata": {
    "application/vnd.databricks.v1+cell": {
     "cellMetadata": {
      "byteLimit": 2048000,
      "rowLimit": 10000
     },
     "inputWidgets": {},
     "nuid": "04a1cde8-d513-4569-a3b2-738d9494f5cb",
     "showTitle": false,
     "tableResultSettingsMap": {},
     "title": ""
    }
   },
   "outputs": [],
   "source": [
    "controlo_sum = controlo.select(\"guid\", \"funlo_rollup_desc\", \"DEPT\", \"DEPT_OPEN\",\"DEPT_UNSUBSCRIBE\", \"DEPT_SENT\").dropDuplicates()\n",
    "controlo_sum.groupBy(\"funlo_rollup_desc\").agg(f.sum(\"DEPT_OPEN\"), f.sum(\"DEPT_SENT\"), f.sum(\"DEPT_OPEN\") / f.sum(\"DEPT_SENT\")).display()"
   ]
  },
  {
   "cell_type": "code",
   "execution_count": 0,
   "metadata": {
    "application/vnd.databricks.v1+cell": {
     "cellMetadata": {
      "byteLimit": 2048000,
      "rowLimit": 10000
     },
     "inputWidgets": {},
     "nuid": "4cd71e3e-c4ed-4a6b-9e27-6e91eb055fc8",
     "showTitle": false,
     "tableResultSettingsMap": {},
     "title": ""
    }
   },
   "outputs": [],
   "source": [
    "controlo_sum = controlo.select(\"guid\", \"funlo_rollup_desc\", \"DEPT\", \"DEPT_OPEN\",\"DEPT_UNSUBSCRIBE\", \"DEPT_SENT\").dropDuplicates()\n",
    "controlo_sum.groupBy(\"funlo_rollup_desc\").agg(f.sum(\"DEPT_UNSUBSCRIBE\"), f.sum(\"DEPT_OPEN\"), f.sum(\"DEPT_UNSUBSCRIBE\") / f.sum(\"DEPT_OPEN\")).display()"
   ]
  },
  {
   "cell_type": "code",
   "execution_count": 0,
   "metadata": {
    "application/vnd.databricks.v1+cell": {
     "cellMetadata": {
      "byteLimit": 2048000,
      "rowLimit": 10000
     },
     "inputWidgets": {},
     "nuid": "d0880886-fdf8-4f30-8c6a-7b44eba2117d",
     "showTitle": false,
     "tableResultSettingsMap": {},
     "title": ""
    }
   },
   "outputs": [],
   "source": [
    "controlo_sum = controlo.select(\"guid\", \"funlo_seg_desc\", \"DEPT\", \"DEPT_OPEN\",\"DEPT_UNSUBSCRIBE\", \"DEPT_SENT\").dropDuplicates()\n",
    "controlo_sum.groupBy(\"funlo_seg_desc\").agg(f.sum(\"DEPT_OPEN\"), f.sum(\"DEPT_SENT\"), f.sum(\"DEPT_OPEN\") / f.sum(\"DEPT_SENT\")).display()"
   ]
  },
  {
   "cell_type": "code",
   "execution_count": 0,
   "metadata": {
    "application/vnd.databricks.v1+cell": {
     "cellMetadata": {
      "byteLimit": 2048000,
      "rowLimit": 10000
     },
     "inputWidgets": {},
     "nuid": "126ac3b4-e208-43ee-9121-3a195663ce33",
     "showTitle": false,
     "tableResultSettingsMap": {},
     "title": ""
    }
   },
   "outputs": [],
   "source": [
    "controlo_sum = controlo.select(\"guid\", \"funlo_seg_desc\", \"DEPT\", \"DEPT_OPEN\",\"DEPT_UNSUBSCRIBE\", \"DEPT_SENT\").dropDuplicates()\n",
    "controlo_sum.groupBy(\"funlo_seg_desc\").agg(f.sum(\"DEPT_UNSUBSCRIBE\"), f.sum(\"DEPT_OPEN\"), f.sum(\"DEPT_UNSUBSCRIBE\") / f.sum(\"DEPT_OPEN\")).display()"
   ]
  },
  {
   "cell_type": "markdown",
   "metadata": {
    "application/vnd.databricks.v1+cell": {
     "cellMetadata": {
      "byteLimit": 2048000,
      "rowLimit": 10000
     },
     "inputWidgets": {},
     "nuid": "23ed3349-66f8-4bd5-8ad1-fe5410f9d0df",
     "showTitle": false,
     "tableResultSettingsMap": {},
     "title": ""
    }
   },
   "source": [
    "##FUNLO X CONTROL X OLD TAGS"
   ]
  },
  {
   "cell_type": "code",
   "execution_count": 0,
   "metadata": {
    "application/vnd.databricks.v1+cell": {
     "cellMetadata": {
      "byteLimit": 2048000,
      "rowLimit": 10000
     },
     "inputWidgets": {},
     "nuid": "e0c76670-679b-4108-acb0-28ae7cbd2cdc",
     "showTitle": false,
     "tableResultSettingsMap": {},
     "title": ""
    }
   },
   "outputs": [],
   "source": [
    "controlo.columns"
   ]
  },
  {
   "cell_type": "code",
   "execution_count": 0,
   "metadata": {
    "application/vnd.databricks.v1+cell": {
     "cellMetadata": {
      "byteLimit": 2048000,
      "rowLimit": 10000
     },
     "inputWidgets": {},
     "nuid": "ee46ed80-214e-4c1a-aa8b-6a7b22641120",
     "showTitle": false,
     "tableResultSettingsMap": {},
     "title": ""
    }
   },
   "outputs": [],
   "source": [
    "funlo_old_aggs_rollup = controlo.groupBy(\"funlo_rollup_desc\", \"EMAIL_TYPE_OLD_TAG\", \"CATEGORY1_OLD_TAG\").agg(\n",
    "  f.countDistinct(\"guid\").alias(\"Unique_Guids\"),\n",
    "  f.countDistinct(\"ehhn\").alias(\"Unique_Households\"),\n",
    "  f.sum(\"EMAIL_TYPE_OLD_TAG_SENT\").alias(\"EMAIL_TYPE_OLD_TAG_SENT\"),\n",
    "  f.sum(\"EMAIL_TYPE_OLD_TAG_OPEN\").alias(\"EMAIL_TYPE_OLD_TAG_OPEN\"),\n",
    "  f.sum(\"EMAIL_TYPE_OLD_TAG_CLICK\").alias(\"EMAIL_TYPE_OLD_TAG_CLICK\"),\n",
    "  f.sum(\"EMAIL_TYPE_OLD_TAG_UNSUBSCRIBE\").alias(\"EMAIL_TYPE_OLD_TAG_UNSUBSCRIBE\"),\n",
    "  (f.sum(\"EMAIL_TYPE_OLD_TAG_OPEN\") / f.sum(\"EMAIL_TYPE_OLD_TAG_SENT\")).alias(\"EMAIL_TYPE_OLD_TAG_OPEN_RATE\"),\n",
    "  (f.sum(\"EMAIL_TYPE_OLD_TAG_CLICK\") / f.sum(\"EMAIL_TYPE_OLD_TAG_SENT\")).alias(\"EMAIL_TYPE_OLD_TAG_UNSUBSCRIBE_RATE\"),\n",
    "  f.sum(\"CATEGORY1_OLD_TAG_SENT\").alias(\"CATEGORY1_OLD_TAG_SENT\"),\n",
    "  f.sum(\"CATEGORY1_OLD_TAG_OPEN\").alias(\"CATEGORY1_OLD_TAG_OPEN\"),\n",
    "  f.sum(\"CATEGORY1_OLD_TAG_CLICK\").alias(\"CATEGORY1_OLD_TAG_CLICK\"),\n",
    "  f.sum(\"CATEGORY1_OLD_TAG_UNSUBSCRIBE\").alias(\"CATEGORY1_OLD_TAG_UNSUBSCRIBE\"),\n",
    "  (f.sum(\"CATEGORY1_OLD_TAG_OPEN\") / f.sum(\"CATEGORY1_OLD_TAG_SENT\")).alias(\"CATEGORY1_OLD_TAG_OPEN_RATE\"),\n",
    "  (f.sum(\"CATEGORY1_OLD_TAG_CLICK\") / f.sum(\"CATEGORY1_OLD_TAG_SENT\")).alias(\"CATEGORY1_OLD_TAG_UNSUBSCRIBE_RATE\"),\n",
    ")\n"
   ]
  },
  {
   "cell_type": "code",
   "execution_count": 0,
   "metadata": {
    "application/vnd.databricks.v1+cell": {
     "cellMetadata": {
      "byteLimit": 2048000,
      "rowLimit": 10000
     },
     "inputWidgets": {},
     "nuid": "cf684d59-8889-420f-affa-dc734854ae81",
     "showTitle": false,
     "tableResultSettingsMap": {},
     "title": ""
    }
   },
   "outputs": [],
   "source": [
    "funlo_old_aggs_rollup.display()"
   ]
  },
  {
   "cell_type": "code",
   "execution_count": 0,
   "metadata": {
    "application/vnd.databricks.v1+cell": {
     "cellMetadata": {
      "byteLimit": 2048000,
      "rowLimit": 10000
     },
     "inputWidgets": {},
     "nuid": "dc51d830-1416-477f-b4ee-2bb881332d84",
     "showTitle": false,
     "tableResultSettingsMap": {},
     "title": ""
    }
   },
   "outputs": [],
   "source": [
    "funlo_old_aggs_seg = controlo.groupBy(\"funlo_seg_desc\", \"EMAIL_TYPE_OLD_TAG\", \"CATEGORY1_OLD_TAG\").agg(\n",
    "  f.countDistinct(\"guid\").alias(\"Unique_Guids\"),\n",
    "  f.countDistinct(\"ehhn\").alias(\"Unique_Households\"),\n",
    "  f.sum(\"EMAIL_TYPE_OLD_TAG_SENT\").alias(\"EMAIL_TYPE_OLD_TAG_SENT\"),\n",
    "  f.sum(\"EMAIL_TYPE_OLD_TAG_OPEN\").alias(\"EMAIL_TYPE_OLD_TAG_OPEN\"),\n",
    "  f.sum(\"EMAIL_TYPE_OLD_TAG_CLICK\").alias(\"EMAIL_TYPE_OLD_TAG_CLICK\"),\n",
    "  f.sum(\"EMAIL_TYPE_OLD_TAG_UNSUBSCRIBE\").alias(\"EMAIL_TYPE_OLD_TAG_UNSUBSCRIBE\"),\n",
    "  (f.sum(\"EMAIL_TYPE_OLD_TAG_OPEN\") / f.sum(\"EMAIL_TYPE_OLD_TAG_SENT\")).alias(\"EMAIL_TYPE_OLD_TAG_OPEN_RATE\"),\n",
    "  (f.sum(\"EMAIL_TYPE_OLD_TAG_CLICK\") / f.sum(\"EMAIL_TYPE_OLD_TAG_SENT\")).alias(\"EMAIL_TYPE_OLD_TAG_UNSUBSCRIBE_RATE\"),\n",
    "  f.sum(\"CATEGORY1_OLD_TAG_SENT\").alias(\"CATEGORY1_OLD_TAG_SENT\"),\n",
    "  f.sum(\"CATEGORY1_OLD_TAG_OPEN\").alias(\"CATEGORY1_OLD_TAG_OPEN\"),\n",
    "  f.sum(\"CATEGORY1_OLD_TAG_CLICK\").alias(\"CATEGORY1_OLD_TAG_CLICK\"),\n",
    "  f.sum(\"CATEGORY1_OLD_TAG_UNSUBSCRIBE\").alias(\"CATEGORY1_OLD_TAG_UNSUBSCRIBE\"),\n",
    "  (f.sum(\"CATEGORY1_OLD_TAG_OPEN\") / f.sum(\"CATEGORY1_OLD_TAG_SENT\")).alias(\"CATEGORY1_OLD_TAG_OPEN_RATE\"),\n",
    "  (f.sum(\"CATEGORY1_OLD_TAG_CLICK\") / f.sum(\"CATEGORY1_OLD_TAG_SENT\")).alias(\"CATEGORY1_OLD_TAG_UNSUBSCRIBE_RATE\"),\n",
    ")"
   ]
  },
  {
   "cell_type": "code",
   "execution_count": 0,
   "metadata": {
    "application/vnd.databricks.v1+cell": {
     "cellMetadata": {
      "byteLimit": 2048000,
      "rowLimit": 10000
     },
     "inputWidgets": {},
     "nuid": "7107ffa9-5ab0-4f34-9589-cc8c71c26b23",
     "showTitle": false,
     "tableResultSettingsMap": {},
     "title": ""
    }
   },
   "outputs": [],
   "source": [
    "funlo_old_aggs_seg.display()"
   ]
  },
  {
   "cell_type": "markdown",
   "metadata": {
    "application/vnd.databricks.v1+cell": {
     "cellMetadata": {
      "byteLimit": 2048000,
      "rowLimit": 10000
     },
     "inputWidgets": {},
     "nuid": "b0e7b994-0a15-40d8-a61a-6433f6537031",
     "showTitle": false,
     "tableResultSettingsMap": {},
     "title": ""
    }
   },
   "source": [
    "##CDS X CONTROL"
   ]
  },
  {
   "cell_type": "code",
   "execution_count": 0,
   "metadata": {
    "application/vnd.databricks.v1+cell": {
     "cellMetadata": {
      "byteLimit": 2048000,
      "rowLimit": 10000
     },
     "inputWidgets": {},
     "nuid": "7e7f9af8-b794-4180-836a-4d7c53a6fdde",
     "showTitle": false,
     "tableResultSettingsMap": {},
     "title": ""
    }
   },
   "outputs": [],
   "source": [
    "control_cds = control.join(cds, on = \"ehhn\", how = \"inner\")"
   ]
  },
  {
   "cell_type": "markdown",
   "metadata": {
    "application/vnd.databricks.v1+cell": {
     "cellMetadata": {
      "byteLimit": 2048000,
      "rowLimit": 10000
     },
     "inputWidgets": {},
     "nuid": "9ac828d1-9d14-4706-83c0-1c7bcedc951f",
     "showTitle": false,
     "tableResultSettingsMap": {},
     "title": ""
    }
   },
   "source": [
    "###Price Dim Seg"
   ]
  },
  {
   "cell_type": "code",
   "execution_count": 0,
   "metadata": {
    "application/vnd.databricks.v1+cell": {
     "cellMetadata": {
      "byteLimit": 2048000,
      "rowLimit": 10000
     },
     "inputWidgets": {},
     "nuid": "e400adf8-239e-4861-9963-7f278ea249e9",
     "showTitle": false,
     "tableResultSettingsMap": {},
     "title": ""
    }
   },
   "outputs": [],
   "source": [
    "price_dim_aggs = control_cds.groupBy(\"price_dim_seg\", \"EMAIL_TYPE_OLD_TAG\", \"CATEGORY1_OLD_TAG\").agg(\n",
    "  f.countDistinct(\"guid\").alias(\"Unique_Guids\"),\n",
    "  f.countDistinct(\"ehhn\").alias(\"Unique_Households\"),\n",
    "  f.sum(\"EMAIL_TYPE_OLD_TAG_SENT\").alias(\"EMAIL_TYPE_OLD_TAG_SENT\"),\n",
    "  f.sum(\"EMAIL_TYPE_OLD_TAG_OPEN\").alias(\"EMAIL_TYPE_OLD_TAG_OPEN\"),\n",
    "  f.sum(\"EMAIL_TYPE_OLD_TAG_CLICK\").alias(\"EMAIL_TYPE_OLD_TAG_CLICK\"),\n",
    "  f.sum(\"EMAIL_TYPE_OLD_TAG_UNSUBSCRIBE\").alias(\"EMAIL_TYPE_OLD_TAG_UNSUBSCRIBE\"),\n",
    "  (f.sum(\"EMAIL_TYPE_OLD_TAG_OPEN\") / f.sum(\"EMAIL_TYPE_OLD_TAG_SENT\")).alias(\"EMAIL_TYPE_OLD_TAG_OPEN_RATE\"),\n",
    "  (f.sum(\"EMAIL_TYPE_OLD_TAG_CLICK\") / f.sum(\"EMAIL_TYPE_OLD_TAG_SENT\")).alias(\"EMAIL_TYPE_OLD_TAG_UNSUBSCRIBE_RATE\"),\n",
    "  f.sum(\"CATEGORY1_OLD_TAG_SENT\").alias(\"CATEGORY1_OLD_TAG_SENT\"),\n",
    "  f.sum(\"CATEGORY1_OLD_TAG_OPEN\").alias(\"CATEGORY1_OLD_TAG_OPEN\"),\n",
    "  f.sum(\"CATEGORY1_OLD_TAG_CLICK\").alias(\"CATEGORY1_OLD_TAG_CLICK\"),\n",
    "  f.sum(\"CATEGORY1_OLD_TAG_UNSUBSCRIBE\").alias(\"CATEGORY1_OLD_TAG_UNSUBSCRIBE\"),\n",
    "  (f.sum(\"CATEGORY1_OLD_TAG_OPEN\") / f.sum(\"CATEGORY1_OLD_TAG_SENT\")).alias(\"CATEGORY1_OLD_TAG_OPEN_RATE\"),\n",
    "  (f.sum(\"CATEGORY1_OLD_TAG_CLICK\") / f.sum(\"CATEGORY1_OLD_TAG_SENT\")).alias(\"CATEGORY1_OLD_TAG_UNSUBSCRIBE_RATE\"),\n",
    ")"
   ]
  },
  {
   "cell_type": "code",
   "execution_count": 0,
   "metadata": {
    "application/vnd.databricks.v1+cell": {
     "cellMetadata": {
      "byteLimit": 2048000,
      "rowLimit": 10000
     },
     "inputWidgets": {},
     "nuid": "d0afcf4a-02d8-4602-8d18-e5d90d4c0256",
     "showTitle": false,
     "tableResultSettingsMap": {},
     "title": ""
    }
   },
   "outputs": [],
   "source": [
    "price_dim_aggs.display()"
   ]
  },
  {
   "cell_type": "code",
   "execution_count": 0,
   "metadata": {
    "application/vnd.databricks.v1+cell": {
     "cellMetadata": {
      "byteLimit": 2048000,
      "rowLimit": 10000
     },
     "inputWidgets": {},
     "nuid": "bff46e49-6cfb-4095-85be-a08137eee55e",
     "showTitle": false,
     "tableResultSettingsMap": {},
     "title": ""
    }
   },
   "outputs": [],
   "source": [
    "price_dim_aggs_solo = price_dim_aggs.select(\"price_dim_seg\", \"EMAIL_TYPE_OLD_TAG\", \"EMAIL_TYPE_OLD_TAG_OPEN\",\"EMAIL_TYPE_OLD_TAG_UNSUBSCRIBE\", \"EMAIL_TYPE_OLD_TAG_SENT\").dropDuplicates()\n",
    "\n",
    "price_dim_aggs_solo.groupBy(\"price_dim_seg\").agg(f.sum(\"EMAIL_TYPE_OLD_TAG_OPEN\"), f.sum(\"EMAIL_TYPE_OLD_TAG_SENT\"), f.sum(\"EMAIL_TYPE_OLD_TAG_OPEN\") / f.sum(\"EMAIL_TYPE_OLD_TAG_SENT\")).display()"
   ]
  },
  {
   "cell_type": "markdown",
   "metadata": {
    "application/vnd.databricks.v1+cell": {
     "cellMetadata": {
      "byteLimit": 2048000,
      "rowLimit": 10000
     },
     "inputWidgets": {},
     "nuid": "04738dfa-33bb-459e-8421-8715e539ce0a",
     "showTitle": false,
     "tableResultSettingsMap": {},
     "title": ""
    }
   },
   "source": [
    "### Health Dim Seg"
   ]
  },
  {
   "cell_type": "code",
   "execution_count": 0,
   "metadata": {
    "application/vnd.databricks.v1+cell": {
     "cellMetadata": {
      "byteLimit": 2048000,
      "rowLimit": 10000
     },
     "inputWidgets": {},
     "nuid": "97773f28-1736-4ace-aecf-1be15d8b4f77",
     "showTitle": false,
     "tableResultSettingsMap": {},
     "title": ""
    }
   },
   "outputs": [],
   "source": [
    "health_dim_aggs = control_cds.groupBy(\"health_dim_seg\", \"EMAIL_TYPE_OLD_TAG\", \"CATEGORY1_OLD_TAG\").agg(\n",
    "  f.countDistinct(\"guid\").alias(\"Unique_Guids\"),\n",
    "  f.countDistinct(\"ehhn\").alias(\"Unique_Households\"),\n",
    "  f.sum(\"EMAIL_TYPE_OLD_TAG_SENT\").alias(\"EMAIL_TYPE_OLD_TAG_SENT\"),\n",
    "  f.sum(\"EMAIL_TYPE_OLD_TAG_OPEN\").alias(\"EMAIL_TYPE_OLD_TAG_OPEN\"),\n",
    "  f.sum(\"EMAIL_TYPE_OLD_TAG_CLICK\").alias(\"EMAIL_TYPE_OLD_TAG_CLICK\"),\n",
    "  f.sum(\"EMAIL_TYPE_OLD_TAG_UNSUBSCRIBE\").alias(\"EMAIL_TYPE_OLD_TAG_UNSUBSCRIBE\"),\n",
    "  (f.sum(\"EMAIL_TYPE_OLD_TAG_OPEN\") / f.sum(\"EMAIL_TYPE_OLD_TAG_SENT\")).alias(\"EMAIL_TYPE_OLD_TAG_OPEN_RATE\"),\n",
    "  (f.sum(\"EMAIL_TYPE_OLD_TAG_CLICK\") / f.sum(\"EMAIL_TYPE_OLD_TAG_SENT\")).alias(\"EMAIL_TYPE_OLD_TAG_UNSUBSCRIBE_RATE\"),\n",
    "  f.sum(\"CATEGORY1_OLD_TAG_SENT\").alias(\"CATEGORY1_OLD_TAG_SENT\"),\n",
    "  f.sum(\"CATEGORY1_OLD_TAG_OPEN\").alias(\"CATEGORY1_OLD_TAG_OPEN\"),\n",
    "  f.sum(\"CATEGORY1_OLD_TAG_CLICK\").alias(\"CATEGORY1_OLD_TAG_CLICK\"),\n",
    "  f.sum(\"CATEGORY1_OLD_TAG_UNSUBSCRIBE\").alias(\"CATEGORY1_OLD_TAG_UNSUBSCRIBE\"),\n",
    "  (f.sum(\"CATEGORY1_OLD_TAG_OPEN\") / f.sum(\"CATEGORY1_OLD_TAG_SENT\")).alias(\"CATEGORY1_OLD_TAG_OPEN_RATE\"),\n",
    "  (f.sum(\"CATEGORY1_OLD_TAG_CLICK\") / f.sum(\"CATEGORY1_OLD_TAG_SENT\")).alias(\"CATEGORY1_OLD_TAG_UNSUBSCRIBE_RATE\"),\n",
    ")"
   ]
  },
  {
   "cell_type": "code",
   "execution_count": 0,
   "metadata": {
    "application/vnd.databricks.v1+cell": {
     "cellMetadata": {
      "byteLimit": 2048000,
      "rowLimit": 10000
     },
     "inputWidgets": {},
     "nuid": "4362818a-512a-42b5-b03a-5c855a31878c",
     "showTitle": false,
     "tableResultSettingsMap": {},
     "title": ""
    }
   },
   "outputs": [],
   "source": [
    "health_dim_aggs.display()"
   ]
  },
  {
   "cell_type": "code",
   "execution_count": 0,
   "metadata": {
    "application/vnd.databricks.v1+cell": {
     "cellMetadata": {
      "byteLimit": 2048000,
      "rowLimit": 10000
     },
     "inputWidgets": {},
     "nuid": "860d1f59-d310-495a-a856-a31b59cd2990",
     "showTitle": false,
     "tableResultSettingsMap": {},
     "title": ""
    }
   },
   "outputs": [],
   "source": [
    "health_dim_aggs_solo = health_dim_aggs.select(\"health_dim_seg\", \"EMAIL_TYPE_OLD_TAG\", \"EMAIL_TYPE_OLD_TAG_OPEN\",\"EMAIL_TYPE_OLD_TAG_UNSUBSCRIBE\", \"EMAIL_TYPE_OLD_TAG_SENT\").dropDuplicates()\n",
    "\n",
    "health_dim_aggs_solo.groupBy(\"health_dim_seg\").agg(f.sum(\"EMAIL_TYPE_OLD_TAG_OPEN\"), f.sum(\"EMAIL_TYPE_OLD_TAG_SENT\"), f.sum(\"EMAIL_TYPE_OLD_TAG_OPEN\") / f.sum(\"EMAIL_TYPE_OLD_TAG_SENT\")).display()"
   ]
  },
  {
   "cell_type": "markdown",
   "metadata": {
    "application/vnd.databricks.v1+cell": {
     "cellMetadata": {
      "byteLimit": 2048000,
      "rowLimit": 10000
     },
     "inputWidgets": {},
     "nuid": "3d5dd38f-3501-42f6-9ef8-e11293aca9f1",
     "showTitle": false,
     "tableResultSettingsMap": {},
     "title": ""
    }
   },
   "source": [
    "### Qualtity Dim Seg"
   ]
  },
  {
   "cell_type": "code",
   "execution_count": 0,
   "metadata": {
    "application/vnd.databricks.v1+cell": {
     "cellMetadata": {
      "byteLimit": 2048000,
      "rowLimit": 10000
     },
     "inputWidgets": {},
     "nuid": "8f6e8b4d-d4f5-4d46-8bd4-f13696e538d6",
     "showTitle": false,
     "tableResultSettingsMap": {},
     "title": ""
    }
   },
   "outputs": [],
   "source": [
    "quality_dim_aggs = control_cds.groupBy(\"quality_dim_seg\", \"EMAIL_TYPE_OLD_TAG\", \"CATEGORY1_OLD_TAG\").agg(\n",
    "  f.countDistinct(\"guid\").alias(\"Unique_Guids\"),\n",
    "  f.countDistinct(\"ehhn\").alias(\"Unique_Households\"),\n",
    "  f.sum(\"EMAIL_TYPE_OLD_TAG_SENT\").alias(\"EMAIL_TYPE_OLD_TAG_SENT\"),\n",
    "  f.sum(\"EMAIL_TYPE_OLD_TAG_OPEN\").alias(\"EMAIL_TYPE_OLD_TAG_OPEN\"),\n",
    "  f.sum(\"EMAIL_TYPE_OLD_TAG_CLICK\").alias(\"EMAIL_TYPE_OLD_TAG_CLICK\"),\n",
    "  f.sum(\"EMAIL_TYPE_OLD_TAG_UNSUBSCRIBE\").alias(\"EMAIL_TYPE_OLD_TAG_UNSUBSCRIBE\"),\n",
    "  (f.sum(\"EMAIL_TYPE_OLD_TAG_OPEN\") / f.sum(\"EMAIL_TYPE_OLD_TAG_SENT\")).alias(\"EMAIL_TYPE_OLD_TAG_OPEN_RATE\"),\n",
    "  (f.sum(\"EMAIL_TYPE_OLD_TAG_CLICK\") / f.sum(\"EMAIL_TYPE_OLD_TAG_SENT\")).alias(\"EMAIL_TYPE_OLD_TAG_UNSUBSCRIBE_RATE\"),\n",
    "  f.sum(\"CATEGORY1_OLD_TAG_SENT\").alias(\"CATEGORY1_OLD_TAG_SENT\"),\n",
    "  f.sum(\"CATEGORY1_OLD_TAG_OPEN\").alias(\"CATEGORY1_OLD_TAG_OPEN\"),\n",
    "  f.sum(\"CATEGORY1_OLD_TAG_CLICK\").alias(\"CATEGORY1_OLD_TAG_CLICK\"),\n",
    "  f.sum(\"CATEGORY1_OLD_TAG_UNSUBSCRIBE\").alias(\"CATEGORY1_OLD_TAG_UNSUBSCRIBE\"),\n",
    "  (f.sum(\"CATEGORY1_OLD_TAG_OPEN\") / f.sum(\"CATEGORY1_OLD_TAG_SENT\")).alias(\"CATEGORY1_OLD_TAG_OPEN_RATE\"),\n",
    "  (f.sum(\"CATEGORY1_OLD_TAG_CLICK\") / f.sum(\"CATEGORY1_OLD_TAG_SENT\")).alias(\"CATEGORY1_OLD_TAG_UNSUBSCRIBE_RATE\"),\n",
    ")"
   ]
  },
  {
   "cell_type": "code",
   "execution_count": 0,
   "metadata": {
    "application/vnd.databricks.v1+cell": {
     "cellMetadata": {
      "byteLimit": 2048000,
      "rowLimit": 10000
     },
     "inputWidgets": {},
     "nuid": "6f6e932b-f3bd-43c1-9c93-fe46215e0750",
     "showTitle": false,
     "tableResultSettingsMap": {},
     "title": ""
    }
   },
   "outputs": [],
   "source": [
    "quality_dim_aggs.display()"
   ]
  },
  {
   "cell_type": "code",
   "execution_count": 0,
   "metadata": {
    "application/vnd.databricks.v1+cell": {
     "cellMetadata": {
      "byteLimit": 2048000,
      "rowLimit": 10000
     },
     "inputWidgets": {},
     "nuid": "f6074568-c5e0-42a4-840b-391b148f9a3c",
     "showTitle": false,
     "tableResultSettingsMap": {},
     "title": ""
    }
   },
   "outputs": [],
   "source": [
    "quality_dim_aggs_solo = quality_dim_aggs.select(\"quality_dim_seg\", \"EMAIL_TYPE_OLD_TAG\", \"EMAIL_TYPE_OLD_TAG_OPEN\",\"EMAIL_TYPE_OLD_TAG_UNSUBSCRIBE\", \"EMAIL_TYPE_OLD_TAG_SENT\").dropDuplicates()\n",
    "\n",
    "quality_dim_aggs_solo.groupBy(\"quality_dim_seg\").agg(f.sum(\"EMAIL_TYPE_OLD_TAG_OPEN\"), f.sum(\"EMAIL_TYPE_OLD_TAG_SENT\"), f.sum(\"EMAIL_TYPE_OLD_TAG_OPEN\") / f.sum(\"EMAIL_TYPE_OLD_TAG_SENT\")).display()"
   ]
  },
  {
   "cell_type": "markdown",
   "metadata": {
    "application/vnd.databricks.v1+cell": {
     "cellMetadata": {
      "byteLimit": 2048000,
      "rowLimit": 10000
     },
     "inputWidgets": {},
     "nuid": "fa5f8db3-04da-42ee-a290-beabd8e74487",
     "showTitle": false,
     "tableResultSettingsMap": {},
     "title": ""
    }
   },
   "source": [
    "### Convenience dim seg"
   ]
  },
  {
   "cell_type": "code",
   "execution_count": 0,
   "metadata": {
    "application/vnd.databricks.v1+cell": {
     "cellMetadata": {
      "byteLimit": 2048000,
      "rowLimit": 10000
     },
     "inputWidgets": {},
     "nuid": "80a7998f-f886-46fe-9594-93ca4c42639d",
     "showTitle": false,
     "tableResultSettingsMap": {},
     "title": ""
    }
   },
   "outputs": [],
   "source": [
    "convenience_dim_aggs = control_cds.groupBy(\"convenience_dim_seg\", \"EMAIL_TYPE_OLD_TAG\", \"CATEGORY1_OLD_TAG\").agg(\n",
    "  f.countDistinct(\"guid\").alias(\"Unique_Guids\"),\n",
    "  f.countDistinct(\"ehhn\").alias(\"Unique_Households\"),\n",
    "  f.sum(\"EMAIL_TYPE_OLD_TAG_SENT\").alias(\"EMAIL_TYPE_OLD_TAG_SENT\"),\n",
    "  f.sum(\"EMAIL_TYPE_OLD_TAG_OPEN\").alias(\"EMAIL_TYPE_OLD_TAG_OPEN\"),\n",
    "  f.sum(\"EMAIL_TYPE_OLD_TAG_CLICK\").alias(\"EMAIL_TYPE_OLD_TAG_CLICK\"),\n",
    "  f.sum(\"EMAIL_TYPE_OLD_TAG_UNSUBSCRIBE\").alias(\"EMAIL_TYPE_OLD_TAG_UNSUBSCRIBE\"),\n",
    "  (f.sum(\"EMAIL_TYPE_OLD_TAG_OPEN\") / f.sum(\"EMAIL_TYPE_OLD_TAG_SENT\")).alias(\"EMAIL_TYPE_OLD_TAG_OPEN_RATE\"),\n",
    "  (f.sum(\"EMAIL_TYPE_OLD_TAG_CLICK\") / f.sum(\"EMAIL_TYPE_OLD_TAG_SENT\")).alias(\"EMAIL_TYPE_OLD_TAG_UNSUBSCRIBE_RATE\"),\n",
    "  f.sum(\"CATEGORY1_OLD_TAG_SENT\").alias(\"CATEGORY1_OLD_TAG_SENT\"),\n",
    "  f.sum(\"CATEGORY1_OLD_TAG_OPEN\").alias(\"CATEGORY1_OLD_TAG_OPEN\"),\n",
    "  f.sum(\"CATEGORY1_OLD_TAG_CLICK\").alias(\"CATEGORY1_OLD_TAG_CLICK\"),\n",
    "  f.sum(\"CATEGORY1_OLD_TAG_UNSUBSCRIBE\").alias(\"CATEGORY1_OLD_TAG_UNSUBSCRIBE\"),\n",
    "  (f.sum(\"CATEGORY1_OLD_TAG_OPEN\") / f.sum(\"CATEGORY1_OLD_TAG_SENT\")).alias(\"CATEGORY1_OLD_TAG_OPEN_RATE\"),\n",
    "  (f.sum(\"CATEGORY1_OLD_TAG_CLICK\") / f.sum(\"CATEGORY1_OLD_TAG_SENT\")).alias(\"CATEGORY1_OLD_TAG_UNSUBSCRIBE_RATE\"),\n",
    ")"
   ]
  },
  {
   "cell_type": "code",
   "execution_count": 0,
   "metadata": {
    "application/vnd.databricks.v1+cell": {
     "cellMetadata": {
      "byteLimit": 2048000,
      "rowLimit": 10000
     },
     "inputWidgets": {},
     "nuid": "2fd823c1-d377-4907-bc21-5a11bbf52c1d",
     "showTitle": false,
     "tableResultSettingsMap": {},
     "title": ""
    }
   },
   "outputs": [],
   "source": [
    "convenience_dim_aggs.display()"
   ]
  },
  {
   "cell_type": "code",
   "execution_count": 0,
   "metadata": {
    "application/vnd.databricks.v1+cell": {
     "cellMetadata": {
      "byteLimit": 2048000,
      "rowLimit": 10000
     },
     "inputWidgets": {},
     "nuid": "77047c9f-8d8f-4dd9-8950-e473de14d56e",
     "showTitle": false,
     "tableResultSettingsMap": {},
     "title": ""
    }
   },
   "outputs": [],
   "source": [
    "convenience_dim_aggs_solo = convenience_dim_aggs.select(\"convenience_dim_seg\", \"EMAIL_TYPE_OLD_TAG\", \"EMAIL_TYPE_OLD_TAG_OPEN\",\"EMAIL_TYPE_OLD_TAG_UNSUBSCRIBE\", \"EMAIL_TYPE_OLD_TAG_SENT\").dropDuplicates()\n",
    "\n",
    "\n",
    "convenience_dim_aggs_solo.groupBy(\"convenience_dim_seg\").agg(f.sum(\"EMAIL_TYPE_OLD_TAG_OPEN\"), f.sum(\"EMAIL_TYPE_OLD_TAG_SENT\"), f.sum(\"EMAIL_TYPE_OLD_TAG_OPEN\") / f.sum(\"EMAIL_TYPE_OLD_TAG_SENT\")).display()"
   ]
  },
  {
   "cell_type": "markdown",
   "metadata": {
    "application/vnd.databricks.v1+cell": {
     "cellMetadata": {
      "byteLimit": 2048000,
      "rowLimit": 10000
     },
     "inputWidgets": {},
     "nuid": "0cdd95d5-c119-4f56-8c7e-03f05209437e",
     "showTitle": false,
     "tableResultSettingsMap": {},
     "title": ""
    }
   },
   "source": [
    "### Variety Seeking Dim Seg"
   ]
  },
  {
   "cell_type": "code",
   "execution_count": 0,
   "metadata": {
    "application/vnd.databricks.v1+cell": {
     "cellMetadata": {
      "byteLimit": 2048000,
      "rowLimit": 10000
     },
     "inputWidgets": {},
     "nuid": "421724a0-f381-4c0c-8f87-f22de04b86d5",
     "showTitle": false,
     "tableResultSettingsMap": {},
     "title": ""
    }
   },
   "outputs": [],
   "source": [
    "variety_seeking_dim_aggs = control_cds.groupBy(\"variety_seeking_dim_seg\", \"EMAIL_TYPE_OLD_TAG\", \"CATEGORY1_OLD_TAG\").agg(\n",
    "  f.countDistinct(\"guid\").alias(\"Unique_Guids\"),\n",
    "  f.countDistinct(\"ehhn\").alias(\"Unique_Households\"),\n",
    "  f.sum(\"EMAIL_TYPE_OLD_TAG_SENT\").alias(\"EMAIL_TYPE_OLD_TAG_SENT\"),\n",
    "  f.sum(\"EMAIL_TYPE_OLD_TAG_OPEN\").alias(\"EMAIL_TYPE_OLD_TAG_OPEN\"),\n",
    "  f.sum(\"EMAIL_TYPE_OLD_TAG_CLICK\").alias(\"EMAIL_TYPE_OLD_TAG_CLICK\"),\n",
    "  f.sum(\"EMAIL_TYPE_OLD_TAG_UNSUBSCRIBE\").alias(\"EMAIL_TYPE_OLD_TAG_UNSUBSCRIBE\"),\n",
    "  (f.sum(\"EMAIL_TYPE_OLD_TAG_OPEN\") / f.sum(\"EMAIL_TYPE_OLD_TAG_SENT\")).alias(\"EMAIL_TYPE_OLD_TAG_OPEN_RATE\"),\n",
    "  (f.sum(\"EMAIL_TYPE_OLD_TAG_CLICK\") / f.sum(\"EMAIL_TYPE_OLD_TAG_SENT\")).alias(\"EMAIL_TYPE_OLD_TAG_UNSUBSCRIBE_RATE\"),\n",
    "  f.sum(\"CATEGORY1_OLD_TAG_SENT\").alias(\"CATEGORY1_OLD_TAG_SENT\"),\n",
    "  f.sum(\"CATEGORY1_OLD_TAG_OPEN\").alias(\"CATEGORY1_OLD_TAG_OPEN\"),\n",
    "  f.sum(\"CATEGORY1_OLD_TAG_CLICK\").alias(\"CATEGORY1_OLD_TAG_CLICK\"),\n",
    "  f.sum(\"CATEGORY1_OLD_TAG_UNSUBSCRIBE\").alias(\"CATEGORY1_OLD_TAG_UNSUBSCRIBE\"),\n",
    "  (f.sum(\"CATEGORY1_OLD_TAG_OPEN\") / f.sum(\"CATEGORY1_OLD_TAG_SENT\")).alias(\"CATEGORY1_OLD_TAG_OPEN_RATE\"),\n",
    "  (f.sum(\"CATEGORY1_OLD_TAG_CLICK\") / f.sum(\"CATEGORY1_OLD_TAG_SENT\")).alias(\"CATEGORY1_OLD_TAG_UNSUBSCRIBE_RATE\"),\n",
    ")"
   ]
  },
  {
   "cell_type": "code",
   "execution_count": 0,
   "metadata": {
    "application/vnd.databricks.v1+cell": {
     "cellMetadata": {
      "byteLimit": 2048000,
      "rowLimit": 10000
     },
     "inputWidgets": {},
     "nuid": "c75d1181-945b-41e2-8ac9-1735cbdcf1d1",
     "showTitle": false,
     "tableResultSettingsMap": {},
     "title": ""
    }
   },
   "outputs": [],
   "source": [
    "variety_seeking_dim_aggs.display()"
   ]
  },
  {
   "cell_type": "code",
   "execution_count": 0,
   "metadata": {
    "application/vnd.databricks.v1+cell": {
     "cellMetadata": {
      "byteLimit": 2048000,
      "rowLimit": 10000
     },
     "inputWidgets": {},
     "nuid": "7cce643f-2e88-4ae7-85d5-0662a0a1091c",
     "showTitle": false,
     "tableResultSettingsMap": {},
     "title": ""
    }
   },
   "outputs": [],
   "source": [
    "variety_seeking_dim_aggs_solo = variety_seeking_dim_aggs.select(\"variety_seeking_dim_seg\", \"EMAIL_TYPE_OLD_TAG\", \"EMAIL_TYPE_OLD_TAG_OPEN\",\"EMAIL_TYPE_OLD_TAG_UNSUBSCRIBE\", \"EMAIL_TYPE_OLD_TAG_SENT\").dropDuplicates()\n",
    "\n",
    "\n",
    "variety_seeking_dim_aggs_solo.groupBy(\"variety_seeking_dim_seg\").agg(f.sum(\"EMAIL_TYPE_OLD_TAG_OPEN\"), f.sum(\"EMAIL_TYPE_OLD_TAG_SENT\"), f.sum(\"EMAIL_TYPE_OLD_TAG_OPEN\") / f.sum(\"EMAIL_TYPE_OLD_TAG_SENT\")).display()"
   ]
  },
  {
   "cell_type": "markdown",
   "metadata": {
    "application/vnd.databricks.v1+cell": {
     "cellMetadata": {
      "byteLimit": 2048000,
      "rowLimit": 10000
     },
     "inputWidgets": {},
     "nuid": "c49b361d-9746-48d4-adc1-f4f1666d4308",
     "showTitle": false,
     "tableResultSettingsMap": {},
     "title": ""
    }
   },
   "source": [
    "##ACDS X Control"
   ]
  },
  {
   "cell_type": "markdown",
   "metadata": {
    "application/vnd.databricks.v1+cell": {
     "cellMetadata": {
      "byteLimit": 2048000,
      "rowLimit": 10000
     },
     "inputWidgets": {},
     "nuid": "ab9d4744-0ae1-475a-9b83-9afefcc1f704",
     "showTitle": false,
     "tableResultSettingsMap": {},
     "title": ""
    }
   },
   "source": []
  },
  {
   "cell_type": "markdown",
   "metadata": {
    "application/vnd.databricks.v1+cell": {
     "cellMetadata": {
      "byteLimit": 2048000,
      "rowLimit": 10000
     },
     "inputWidgets": {},
     "nuid": "88f00d99-b821-4a6c-a232-97a5f76ea82b",
     "showTitle": false,
     "tableResultSettingsMap": {},
     "title": ""
    }
   },
   "source": [
    "#The Test Group"
   ]
  },
  {
   "cell_type": "markdown",
   "metadata": {
    "application/vnd.databricks.v1+cell": {
     "cellMetadata": {
      "byteLimit": 2048000,
      "rowLimit": 10000
     },
     "inputWidgets": {},
     "nuid": "adf7b819-6f7d-4135-9adf-cb0cd903e2ee",
     "showTitle": false,
     "tableResultSettingsMap": {},
     "title": ""
    }
   },
   "source": [
    "## Read in Test Tables"
   ]
  },
  {
   "cell_type": "code",
   "execution_count": 0,
   "metadata": {
    "application/vnd.databricks.v1+cell": {
     "cellMetadata": {
      "byteLimit": 2048000,
      "rowLimit": 10000
     },
     "inputWidgets": {},
     "nuid": "a446436a-f1c6-4b35-bf49-ffb617de8f82",
     "showTitle": false,
     "tableResultSettingsMap": {},
     "title": ""
    }
   },
   "outputs": [],
   "source": [
    "test = spark.read.table(\"sandbox_dev.tm_learning.final_all_test\")\n",
    "print(test.select(\"guid\").distinct().count())"
   ]
  },
  {
   "cell_type": "code",
   "execution_count": 0,
   "metadata": {
    "application/vnd.databricks.v1+cell": {
     "cellMetadata": {
      "byteLimit": 2048000,
      "rowLimit": 10000
     },
     "inputWidgets": {},
     "nuid": "77c21289-6aeb-4dcb-ba5f-8a0314356dd7",
     "showTitle": false,
     "tableResultSettingsMap": {},
     "title": ""
    }
   },
   "outputs": [],
   "source": [
    "test = test.join(active_guids_ehhns, on = \"guid\", how  = \"inner\")"
   ]
  },
  {
   "cell_type": "markdown",
   "metadata": {
    "application/vnd.databricks.v1+cell": {
     "cellMetadata": {
      "byteLimit": 2048000,
      "rowLimit": 10000
     },
     "inputWidgets": {},
     "nuid": "e4ce0c9e-6a24-4e33-b5a5-d363bca08199",
     "showTitle": false,
     "tableResultSettingsMap": {},
     "title": ""
    }
   },
   "source": [
    "## Getting open rates for overall group"
   ]
  },
  {
   "cell_type": "code",
   "execution_count": 0,
   "metadata": {
    "application/vnd.databricks.v1+cell": {
     "cellMetadata": {
      "byteLimit": 2048000,
      "rowLimit": 10000
     },
     "inputWidgets": {},
     "nuid": "062912b4-da37-4b0d-84d3-2187942ad4d2",
     "showTitle": false,
     "tableResultSettingsMap": {},
     "title": ""
    }
   },
   "outputs": [],
   "source": [
    "test_sum = test.select(\"guid\", \"DEPT\", \"DEPT_OPEN\", \"DEPT_SENT\").dropDuplicates()\n",
    "test_sum.agg(f.sum(\"DEPT_OPEN\") / f.sum(\"DEPT_SENT\")).display()"
   ]
  },
  {
   "cell_type": "markdown",
   "metadata": {
    "application/vnd.databricks.v1+cell": {
     "cellMetadata": {
      "byteLimit": 2048000,
      "rowLimit": 10000
     },
     "inputWidgets": {},
     "nuid": "557a3878-51d7-4bd7-a432-a22a20e86e52",
     "showTitle": false,
     "tableResultSettingsMap": {},
     "title": ""
    }
   },
   "source": [
    "## Getting Unsubscribe Rates for the overall group"
   ]
  },
  {
   "cell_type": "code",
   "execution_count": 0,
   "metadata": {
    "application/vnd.databricks.v1+cell": {
     "cellMetadata": {
      "byteLimit": 2048000,
      "rowLimit": 10000
     },
     "inputWidgets": {},
     "nuid": "950c5011-8277-4912-b922-08b4be63be5a",
     "showTitle": false,
     "tableResultSettingsMap": {},
     "title": ""
    }
   },
   "outputs": [],
   "source": [
    "test_sum = test.select(\"guid\", \"DEPT\", \"DEPT_OPEN\",\"DEPT_UNSUBSCRIBE\", \"DEPT_SENT\").dropDuplicates()\n",
    "test_sum.agg(f.sum(\"DEPT_UNSUBSCRIBE\") / f.sum(\"DEPT_OPEN\")).display()"
   ]
  },
  {
   "cell_type": "markdown",
   "metadata": {
    "application/vnd.databricks.v1+cell": {
     "cellMetadata": {},
     "inputWidgets": {},
     "nuid": "ea35631a-6033-408d-9d8c-49f3e784c110",
     "showTitle": false,
     "tableResultSettingsMap": {},
     "title": ""
    }
   },
   "source": [
    "## OPEN RATE BY NEW TAGS"
   ]
  },
  {
   "cell_type": "code",
   "execution_count": 0,
   "metadata": {
    "application/vnd.databricks.v1+cell": {
     "cellMetadata": {
      "byteLimit": 2048000,
      "rowLimit": 10000
     },
     "inputWidgets": {},
     "nuid": "ce1bed42-d429-4128-b2d1-e28f8b5214f4",
     "showTitle": false,
     "tableResultSettingsMap": {},
     "title": ""
    }
   },
   "outputs": [],
   "source": [
    "test_old_tags = test.select(\"guid\", \"THEME\", \"THEME_OPEN\",\"THEME_UNSUBSCRIBE\", \"THEME_SENT\").dropDuplicates()\n",
    "\n",
    "test_old_tags.groupBy(\"THEME\").agg(f.sum(\"THEME_OPEN\"). f.sum(\"THEME_SENT\"),\n",
    "                                               f.sum(\"THEME_UNSUBSCRIBE\"), f.sum(\"THEME_OPEN\") / f.sum(\"THEME_SENT\")).display()"
   ]
  },
  {
   "cell_type": "code",
   "execution_count": 0,
   "metadata": {
    "application/vnd.databricks.v1+cell": {
     "cellMetadata": {
      "byteLimit": 2048000,
      "rowLimit": 10000
     },
     "inputWidgets": {},
     "nuid": "ce469a33-fb60-4db5-a543-6f39d772216e",
     "showTitle": false,
     "tableResultSettingsMap": {},
     "title": ""
    }
   },
   "outputs": [],
   "source": [
    "test_old_tags = test.select(\"guid\", \"DEPT\", \"THEME_OPEN\",\"THEME_UNSUBSCRIBE\", \"THEME_SENT\").dropDuplicates()\n",
    "\n",
    "test_old_tags.groupBy(\"DEPT\").agg(f.sum(\"DEPT_OPEN\"). f.sum(\"DEPT_SENT\"),\n",
    "                                               f.sum(\"DEPT_UNSUBSCRIBE\"), f.sum(\"DEPT_OPEN\") / f.sum(\"DEPT_SENT\")).display()"
   ]
  },
  {
   "cell_type": "markdown",
   "metadata": {
    "application/vnd.databricks.v1+cell": {
     "cellMetadata": {
      "byteLimit": 2048000,
      "rowLimit": 10000
     },
     "inputWidgets": {},
     "nuid": "8f5621cf-ecad-4381-a35f-7a5256e03b24",
     "showTitle": false,
     "tableResultSettingsMap": {},
     "title": ""
    }
   },
   "source": [
    "## FUNLO X TEST"
   ]
  },
  {
   "cell_type": "code",
   "execution_count": 0,
   "metadata": {
    "application/vnd.databricks.v1+cell": {
     "cellMetadata": {
      "byteLimit": 2048000,
      "rowLimit": 10000
     },
     "inputWidgets": {},
     "nuid": "4297dbe4-7140-4b15-bdb3-412f852d4416",
     "showTitle": false,
     "tableResultSettingsMap": {},
     "title": ""
    }
   },
   "outputs": [],
   "source": [
    "testlo = test.join(funlo, on = \"ehhn\", how = \"inner\")"
   ]
  },
  {
   "cell_type": "code",
   "execution_count": 0,
   "metadata": {
    "application/vnd.databricks.v1+cell": {
     "cellMetadata": {
      "byteLimit": 2048000,
      "rowLimit": 10000
     },
     "inputWidgets": {},
     "nuid": "be3dabc0-11f7-4f30-99d4-8ed4c289df18",
     "showTitle": false,
     "tableResultSettingsMap": {},
     "title": ""
    }
   },
   "outputs": [
    {
     "output_type": "display_data",
     "data": {
      "text/plain": [
       "Databricks visualization. Run in Databricks to view."
      ]
     },
     "metadata": {
      "application/vnd.databricks.v1.subcommand+json": {
       "baseErrorDetails": null,
       "bindings": {},
       "collapsed": false,
       "command": "%python\n__backend_agg_display_orig = display\n__backend_agg_dfs = []\ndef __backend_agg_display_new(df):\n    __backend_agg_df_modules = [\"pandas.core.frame\", \"databricks.koalas.frame\", \"pyspark.sql.dataframe\", \"pyspark.pandas.frame\", \"pyspark.sql.connect.dataframe\"]\n    if (type(df).__module__ in __backend_agg_df_modules and type(df).__name__ == 'DataFrame') or isinstance(df, list):\n        __backend_agg_dfs.append(df)\n\ndisplay = __backend_agg_display_new\n\ndef __backend_agg_user_code_fn():\n    import base64\n    exec(base64.standard_b64decode(\"dGVzdGxvX3N1bSA9IHRlc3Rsby5zZWxlY3QoImd1aWQiLCAiZnVubG9fcm9sbHVwX2Rlc2MiLCAiREVQVCIsICJERVBUX09QRU4iLCJERVBUX1VOU1VCU0NSSUJFIiwgIkRFUFRfU0VOVCIpLmRyb3BEdXBsaWNhdGVzKCkKdGVzdGxvX3N1bS5ncm91cEJ5KCJmdW5sb19yb2xsdXBfZGVzYyIpLmFnZyhmLnN1bSgiREVQVF9PUEVOIiksIGYuc3VtKCJERVBUX1NFTlQiKSwgZi5zdW0oIkRFUFRfT1BFTiIpIC8gZi5zdW0oIkRFUFRfU0VOVCIpKS5kaXNwbGF5KCk=\").decode())\n\ntry:\n    # run user code\n    __backend_agg_user_code_fn()\n\n    #reset display function\n    display = __backend_agg_display_orig\n\n    if len(__backend_agg_dfs) > 0:\n        # create a temp view\n        if type(__backend_agg_dfs[0]).__module__ == \"databricks.koalas.frame\":\n            # koalas dataframe\n            __backend_agg_dfs[0].to_spark().createOrReplaceTempView(\"DatabricksView70f7014\")\n        elif type(__backend_agg_dfs[0]).__module__ == \"pandas.core.frame\" or isinstance(__backend_agg_dfs[0], list):\n            # pandas dataframe\n            spark.createDataFrame(__backend_agg_dfs[0]).createOrReplaceTempView(\"DatabricksView70f7014\")\n        else:\n            __backend_agg_dfs[0].createOrReplaceTempView(\"DatabricksView70f7014\")\n        #run backend agg\n        display(spark.sql(\"\"\"WITH q AS (select * from DatabricksView70f7014) SELECT `funlo_rollup_desc`,SUM(`(sum(DEPT_OPEN) / sum(DEPT_SENT))`) `column_50f5b77e122` FROM q GROUP BY `funlo_rollup_desc`\"\"\"))\n    else:\n        displayHTML(\"dataframe no longer exists. If you're using dataframe.display(), use display(dataframe) instead.\")\n\n\nfinally:\n    spark.sql(\"drop view if exists DatabricksView70f7014\")\n    display = __backend_agg_display_orig\n    del __backend_agg_display_new\n    del __backend_agg_display_orig\n    del __backend_agg_dfs\n    del __backend_agg_user_code_fn\n\n",
       "commandTitle": "Visualization 1",
       "commandType": "auto",
       "commandVersion": 0,
       "commentThread": [],
       "commentsVisible": false,
       "contentSha256Hex": null,
       "customPlotOptions": {
        "redashChart": [
         {
          "key": "type",
          "value": "CHART"
         },
         {
          "key": "options",
          "value": {
           "alignYAxesAtZero": true,
           "coefficient": 1,
           "columnConfigurationMap": {
            "x": {
             "column": "funlo_rollup_desc",
             "id": "column_50f5b77e120"
            },
            "y": [
             {
              "column": "(sum(DEPT_OPEN) / sum(DEPT_SENT))",
              "id": "column_50f5b77e122",
              "transform": "SUM"
             }
            ]
           },
           "dateTimeFormat": "DD/MM/YYYY HH:mm",
           "direction": {
            "type": "counterclockwise"
           },
           "error_y": {
            "type": "data",
            "visible": true
           },
           "globalSeriesType": "column",
           "isAggregationOn": true,
           "legend": {
            "traceorder": "normal"
           },
           "missingValuesAsZero": true,
           "numberFormat": "0,0.[00000]",
           "percentFormat": "0[.]00%",
           "series": {
            "error_y": {
             "type": "data",
             "visible": true
            },
            "stacking": null
           },
           "seriesOptions": {
            "column_50f5b77e122": {
             "type": "column",
             "yAxis": 0
            }
           },
           "showDataLabels": false,
           "sizemode": "diameter",
           "sortX": true,
           "sortY": true,
           "swappedAxes": false,
           "textFormat": "",
           "useAggregationsUi": true,
           "valuesOptions": {},
           "version": 2,
           "xAxis": {
            "labels": {
             "enabled": true
            },
            "type": "-"
           },
           "yAxis": [
            {
             "type": "-"
            },
            {
             "opposite": true,
             "type": "-"
            }
           ]
          }
         }
        ]
       },
       "datasetPreviewNameToCmdIdMap": {},
       "diffDeletes": [],
       "diffInserts": [],
       "displayType": "redashChart",
       "error": null,
       "errorDetails": null,
       "errorSummary": null,
       "errorTraceType": null,
       "finishTime": 0,
       "globalVars": {},
       "guid": "",
       "height": "auto",
       "hideCommandCode": false,
       "hideCommandResult": false,
       "iPythonMetadata": null,
       "inputWidgets": {},
       "isLockedInExamMode": false,
       "latestUser": "a user",
       "latestUserId": null,
       "listResultMetadata": null,
       "metadata": {},
       "nuid": "f0c2d1f8-82cd-425a-b148-41865f5fccd0",
       "origId": 0,
       "parentHierarchy": [],
       "pivotAggregation": null,
       "pivotColumns": null,
       "position": 13.0,
       "resultDbfsErrorMessage": null,
       "resultDbfsStatus": "INLINED_IN_TREE",
       "results": null,
       "showCommandTitle": false,
       "startTime": 0,
       "state": "input",
       "streamStates": {},
       "subcommandOptions": {
        "queryPlan": {
         "groups": [
          {
           "column": "funlo_rollup_desc",
           "type": "column"
          }
         ],
         "selects": [
          {
           "column": "funlo_rollup_desc",
           "type": "column"
          },
          {
           "alias": "column_50f5b77e122",
           "args": [
            {
             "column": "(sum(DEPT_OPEN) / sum(DEPT_SENT))",
             "type": "column"
            }
           ],
           "function": "SUM",
           "type": "function"
          }
         ]
        }
       },
       "submitTime": 0,
       "subtype": "tableResultSubCmd.visualization",
       "tableResultIndex": 0,
       "tableResultSettingsMap": {},
       "useConsistentColors": false,
       "version": "CommandV1",
       "width": "auto",
       "workflows": null,
       "xColumns": null,
       "yColumns": null
      }
     },
     "output_type": "display_data"
    }
   ],
   "source": [
    "testlo_sum = testlo.select(\"guid\", \"funlo_rollup_desc\", \"DEPT\", \"DEPT_OPEN\",\"DEPT_UNSUBSCRIBE\", \"DEPT_SENT\").dropDuplicates()\n",
    "testlo_sum.groupBy(\"funlo_rollup_desc\").agg(f.sum(\"DEPT_OPEN\"), f.sum(\"DEPT_SENT\"), f.sum(\"DEPT_OPEN\") / f.sum(\"DEPT_SENT\")).display()"
   ]
  },
  {
   "cell_type": "code",
   "execution_count": 0,
   "metadata": {
    "application/vnd.databricks.v1+cell": {
     "cellMetadata": {
      "byteLimit": 2048000,
      "rowLimit": 10000
     },
     "inputWidgets": {},
     "nuid": "f5e3a4a9-64e9-4a93-8921-548caf42f0dc",
     "showTitle": false,
     "tableResultSettingsMap": {},
     "title": ""
    }
   },
   "outputs": [],
   "source": [
    "testlo_sum = testlo.select(\"guid\", \"funlo_rollup_desc\", \"DEPT\", \"DEPT_OPEN\",\"DEPT_UNSUBSCRIBE\", \"DEPT_SENT\").dropDuplicates()\n",
    "testlo_sum.groupBy(\"funlo_rollup_desc\").agg(f.sum(\"DEPT_UNSUBSCRIBE\"), f.sum(\"DEPT_OPEN\"), f.sum(\"DEPT_UNSUBSCRIBE\") / f.sum(\"DEPT_OPEN\")).display()"
   ]
  },
  {
   "cell_type": "code",
   "execution_count": 0,
   "metadata": {
    "application/vnd.databricks.v1+cell": {
     "cellMetadata": {
      "byteLimit": 2048000,
      "rowLimit": 10000
     },
     "inputWidgets": {},
     "nuid": "aa8a7f24-7e10-43e4-9fe4-53a670afe20e",
     "showTitle": false,
     "tableResultSettingsMap": {},
     "title": ""
    }
   },
   "outputs": [
    {
     "output_type": "display_data",
     "data": {
      "text/plain": [
       "Databricks visualization. Run in Databricks to view."
      ]
     },
     "metadata": {
      "application/vnd.databricks.v1.subcommand+json": {
       "baseErrorDetails": null,
       "bindings": {},
       "collapsed": false,
       "command": "%python\n__backend_agg_display_orig = display\n__backend_agg_dfs = []\ndef __backend_agg_display_new(df):\n    __backend_agg_df_modules = [\"pandas.core.frame\", \"databricks.koalas.frame\", \"pyspark.sql.dataframe\", \"pyspark.pandas.frame\", \"pyspark.sql.connect.dataframe\"]\n    if (type(df).__module__ in __backend_agg_df_modules and type(df).__name__ == 'DataFrame') or isinstance(df, list):\n        __backend_agg_dfs.append(df)\n\ndisplay = __backend_agg_display_new\n\ndef __backend_agg_user_code_fn():\n    import base64\n    exec(base64.standard_b64decode(\"dGVzdGxvX3N1bSA9IHRlc3Rsby5zZWxlY3QoImd1aWQiLCAiZnVubG9fc2VnX2Rlc2MiLCAiREVQVCIsICJERVBUX09QRU4iLCJERVBUX1VOU1VCU0NSSUJFIiwgIkRFUFRfU0VOVCIpLmRyb3BEdXBsaWNhdGVzKCkKdGVzdGxvX3N1bS5ncm91cEJ5KCJmdW5sb19zZWdfZGVzYyIpLmFnZyhmLnN1bSgiREVQVF9PUEVOIiksIGYuc3VtKCJERVBUX1NFTlQiKSwgZi5zdW0oIkRFUFRfT1BFTiIpIC8gZi5zdW0oIkRFUFRfU0VOVCIpKS5kaXNwbGF5KCk=\").decode())\n\ntry:\n    # run user code\n    __backend_agg_user_code_fn()\n\n    #reset display function\n    display = __backend_agg_display_orig\n\n    if len(__backend_agg_dfs) > 0:\n        # create a temp view\n        if type(__backend_agg_dfs[0]).__module__ == \"databricks.koalas.frame\":\n            # koalas dataframe\n            __backend_agg_dfs[0].to_spark().createOrReplaceTempView(\"DatabricksView89f9f22\")\n        elif type(__backend_agg_dfs[0]).__module__ == \"pandas.core.frame\" or isinstance(__backend_agg_dfs[0], list):\n            # pandas dataframe\n            spark.createDataFrame(__backend_agg_dfs[0]).createOrReplaceTempView(\"DatabricksView89f9f22\")\n        else:\n            __backend_agg_dfs[0].createOrReplaceTempView(\"DatabricksView89f9f22\")\n        #run backend agg\n        display(spark.sql(\"\"\"WITH q AS (select * from DatabricksView89f9f22) SELECT `funlo_seg_desc`,SUM(`(sum(DEPT_OPEN) / sum(DEPT_SENT))`) `column_50f5b77e108` FROM q GROUP BY `funlo_seg_desc`\"\"\"))\n    else:\n        displayHTML(\"dataframe no longer exists. If you're using dataframe.display(), use display(dataframe) instead.\")\n\n\nfinally:\n    spark.sql(\"drop view if exists DatabricksView89f9f22\")\n    display = __backend_agg_display_orig\n    del __backend_agg_display_new\n    del __backend_agg_display_orig\n    del __backend_agg_dfs\n    del __backend_agg_user_code_fn\n\n",
       "commandTitle": "Visualization 1",
       "commandType": "auto",
       "commandVersion": 0,
       "commentThread": [],
       "commentsVisible": false,
       "contentSha256Hex": null,
       "customPlotOptions": {
        "redashChart": [
         {
          "key": "type",
          "value": "CHART"
         },
         {
          "key": "options",
          "value": {
           "alignYAxesAtZero": true,
           "coefficient": 1,
           "columnConfigurationMap": {
            "x": {
             "column": "funlo_seg_desc",
             "id": "column_50f5b77e110"
            },
            "y": [
             {
              "column": "(sum(DEPT_OPEN) / sum(DEPT_SENT))",
              "id": "column_50f5b77e114",
              "transform": "SUM"
             }
            ]
           },
           "dateTimeFormat": "DD/MM/YYYY HH:mm",
           "direction": {
            "type": "counterclockwise"
           },
           "error_y": {
            "type": "data",
            "visible": true
           },
           "globalSeriesType": "column",
           "hideXAxis": false,
           "isAggregationOn": true,
           "legend": {
            "traceorder": "normal"
           },
           "missingValuesAsZero": true,
           "numberFormat": "0,0.[00000]",
           "percentFormat": "0[.]00%",
           "reverseX": false,
           "series": {
            "error_y": {
             "type": "data",
             "visible": true
            },
            "stacking": null
           },
           "seriesOptions": {
            "column_50f5b77e108": {
             "type": "column",
             "yAxis": 0
            },
            "column_50f5b77e114": {
             "type": "column",
             "yAxis": 0
            }
           },
           "showDataLabels": false,
           "sizemode": "diameter",
           "sortX": true,
           "sortY": true,
           "swappedAxes": true,
           "textFormat": "",
           "useAggregationsUi": true,
           "valuesOptions": {},
           "version": 2,
           "xAxis": {
            "labels": {
             "enabled": true
            },
            "title": {
             "text": "Funlo Segmentations"
            },
            "type": "-"
           },
           "yAxis": [
            {
             "title": {
              "text": "Open Rate"
             },
             "type": "-"
            },
            {
             "opposite": true,
             "type": "-"
            }
           ]
          }
         }
        ]
       },
       "datasetPreviewNameToCmdIdMap": {},
       "diffDeletes": [],
       "diffInserts": [],
       "displayType": "redashChart",
       "error": null,
       "errorDetails": null,
       "errorSummary": null,
       "errorTraceType": null,
       "finishTime": 0,
       "globalVars": {},
       "guid": "",
       "height": "auto",
       "hideCommandCode": false,
       "hideCommandResult": false,
       "iPythonMetadata": null,
       "inputWidgets": {},
       "isLockedInExamMode": false,
       "latestUser": "a user",
       "latestUserId": null,
       "listResultMetadata": null,
       "metadata": {},
       "nuid": "c0c20f98-c653-4a0c-a921-7f7874cef602",
       "origId": 0,
       "parentHierarchy": [],
       "pivotAggregation": null,
       "pivotColumns": null,
       "position": 15.0,
       "resultDbfsErrorMessage": null,
       "resultDbfsStatus": "INLINED_IN_TREE",
       "results": null,
       "showCommandTitle": false,
       "startTime": 0,
       "state": "input",
       "streamStates": {},
       "subcommandOptions": {
        "queryPlan": {
         "groups": [
          {
           "column": "funlo_seg_desc",
           "type": "column"
          }
         ],
         "selects": [
          {
           "column": "funlo_seg_desc",
           "type": "column"
          },
          {
           "alias": "column_50f5b77e114",
           "args": [
            {
             "column": "(sum(DEPT_OPEN) / sum(DEPT_SENT))",
             "type": "column"
            }
           ],
           "function": "SUM",
           "type": "function"
          }
         ]
        }
       },
       "submitTime": 0,
       "subtype": "tableResultSubCmd.visualization",
       "tableResultIndex": 0,
       "tableResultSettingsMap": {},
       "useConsistentColors": false,
       "version": "CommandV1",
       "width": "auto",
       "workflows": null,
       "xColumns": null,
       "yColumns": null
      }
     },
     "output_type": "display_data"
    }
   ],
   "source": [
    "testlo_sum = testlo.select(\"guid\", \"funlo_seg_desc\", \"DEPT\", \"DEPT_OPEN\",\"DEPT_UNSUBSCRIBE\", \"DEPT_SENT\").dropDuplicates()\n",
    "testlo_sum.groupBy(\"funlo_seg_desc\").agg(f.sum(\"DEPT_OPEN\"), f.sum(\"DEPT_SENT\"), f.sum(\"DEPT_OPEN\") / f.sum(\"DEPT_SENT\")).display()"
   ]
  },
  {
   "cell_type": "code",
   "execution_count": 0,
   "metadata": {
    "application/vnd.databricks.v1+cell": {
     "cellMetadata": {
      "byteLimit": 2048000,
      "rowLimit": 10000
     },
     "inputWidgets": {},
     "nuid": "9995bd3b-a797-4e11-83fb-c64493b614a6",
     "showTitle": false,
     "tableResultSettingsMap": {},
     "title": ""
    }
   },
   "outputs": [],
   "source": [
    "testlo_sum = testlo.select(\"guid\", \"funlo_seg_desc\", \"DEPT\", \"DEPT_OPEN\",\"DEPT_UNSUBSCRIBE\", \"DEPT_SENT\").dropDuplicates()\n",
    "testlo_sum.groupBy(\"funlo_seg_desc\").agg(f.sum(\"DEPT_UNSUBSCRIBE\"), f.sum(\"DEPT_OPEN\"), f.sum(\"DEPT_UNSUBSCRIBE\") / f.sum(\"DEPT_OPEN\")).display()"
   ]
  },
  {
   "cell_type": "markdown",
   "metadata": {
    "application/vnd.databricks.v1+cell": {
     "cellMetadata": {
      "byteLimit": 2048000,
      "rowLimit": 10000
     },
     "inputWidgets": {},
     "nuid": "86b39741-ea40-457d-81a2-6c575c65e7a4",
     "showTitle": false,
     "tableResultSettingsMap": {},
     "title": ""
    }
   },
   "source": [
    "## FUNLO X TEST X NEW_TAGS"
   ]
  },
  {
   "cell_type": "code",
   "execution_count": 0,
   "metadata": {
    "application/vnd.databricks.v1+cell": {
     "cellMetadata": {
      "byteLimit": 2048000,
      "rowLimit": 10000
     },
     "inputWidgets": {},
     "nuid": "41a967dc-03fb-4893-a70f-060cc2563697",
     "showTitle": false,
     "tableResultSettingsMap": {},
     "title": ""
    }
   },
   "outputs": [],
   "source": [
    "funlo_new_aggs_rollup = testlo.groupBy(\"funlo_rollup_desc\", \"THEME\", \"DEPT\").agg(\n",
    "  f.countDistinct(\"guid\").alias(\"Unique_Guids\"),\n",
    "  f.countDistinct(\"ehhn\").alias(\"Unique_Households\"),\n",
    "  f.sum(\"THEME_SENT\").alias(\"THEME_SENT\"),\n",
    "  f.sum(\"THEME_OPEN\").alias(\"THEME_OPEN\"),\n",
    "  f.sum(\"THEME_CLICK\").alias(\"THEME_CLICK\"),\n",
    "  f.sum(\"THEME_UNSUBSCRIBE\").alias(\"THEME_UNSUBSCRIBE\"),\n",
    "  (f.sum(\"THEME_OPEN\") / f.sum(\"THEME_SENT\")).alias(\"theme_open_rate\"),\n",
    "  (f.sum(\"THEME_CLICK\") / f.sum(\"THEME_SENT\")).alias(\"theme_click_rate\"),\n",
    "  f.sum(\"DEPT_SENT\").alias(\"DEPT_SENT\"),\n",
    "  f.sum(\"DEPT_OPEN\").alias(\"DEPT_OPEN\"),\n",
    "  f.sum(\"DEPT_CLICK\").alias(\"DEPT_CLICK\"),\n",
    "  f.sum(\"DEPT_UNSUBSCRIBE\").alias(\"DEPT_UNSUBSCRIBE\"),\n",
    "  (f.sum(\"DEPT_OPEN\") / f.sum(\"DEPT_SENT\")).alias(\"dept_open_rate\"),\n",
    "  (f.sum(\"DEPT_CLICK\") / f.sum(\"DEPT_SENT\")).alias(\"dept_click_rate\"),\n",
    ")"
   ]
  },
  {
   "cell_type": "code",
   "execution_count": 0,
   "metadata": {
    "application/vnd.databricks.v1+cell": {
     "cellMetadata": {
      "byteLimit": 2048000,
      "rowLimit": 10000
     },
     "inputWidgets": {},
     "nuid": "b12a84c8-91d2-4d72-843a-c943f7eb5512",
     "showTitle": false,
     "tableResultSettingsMap": {},
     "title": ""
    }
   },
   "outputs": [],
   "source": [
    "funlo_new_aggs_rollup.display()"
   ]
  },
  {
   "cell_type": "code",
   "execution_count": 0,
   "metadata": {
    "application/vnd.databricks.v1+cell": {
     "cellMetadata": {
      "byteLimit": 2048000,
      "rowLimit": 10000
     },
     "inputWidgets": {},
     "nuid": "ceb5920d-963d-40e8-99f5-1b87a8f09d35",
     "showTitle": false,
     "tableResultSettingsMap": {},
     "title": ""
    }
   },
   "outputs": [],
   "source": [
    "funlo_new_aggs_seg = testlo.groupBy(\"funlo_seg_desc\", \"THEME\", \"DEPT\").agg(\n",
    "  f.countDistinct(\"guid\").alias(\"Unique_Guids\"),\n",
    "  f.countDistinct(\"ehhn\").alias(\"Unique_Households\"),\n",
    "  f.sum(\"THEME_SENT\").alias(\"THEME_SENT\"),\n",
    "  f.sum(\"THEME_OPEN\").alias(\"THEME_OPEN\"),\n",
    "  f.sum(\"THEME_CLICK\").alias(\"THEME_CLICK\"),\n",
    "  f.sum(\"THEME_UNSUBSCRIBE\").alias(\"THEME_UNSUBSCRIBE\"),\n",
    "  (f.sum(\"THEME_OPEN\") / f.sum(\"THEME_SENT\")).alias(\"theme_open_rate\"),\n",
    "  (f.sum(\"THEME_CLICK\") / f.sum(\"THEME_SENT\")).alias(\"theme_click_rate\"),\n",
    "  f.sum(\"DEPT_SENT\").alias(\"DEPT_SENT\"),\n",
    "  f.sum(\"DEPT_OPEN\").alias(\"DEPT_OPEN\"),\n",
    "  f.sum(\"DEPT_CLICK\").alias(\"DEPT_CLICK\"),\n",
    "  f.sum(\"DEPT_UNSUBSCRIBE\").alias(\"DEPT_UNSUBSCRIBE\"),\n",
    "  (f.sum(\"DEPT_OPEN\") / f.sum(\"DEPT_SENT\")).alias(\"dept_open_rate\"),\n",
    "  (f.sum(\"DEPT_CLICK\") / f.sum(\"DEPT_SENT\")).alias(\"dept_click_rate\"),\n",
    ")"
   ]
  },
  {
   "cell_type": "code",
   "execution_count": 0,
   "metadata": {
    "application/vnd.databricks.v1+cell": {
     "cellMetadata": {
      "byteLimit": 2048000,
      "rowLimit": 10000
     },
     "inputWidgets": {},
     "nuid": "a13fb141-bb33-4e4c-88a1-34dba19fd979",
     "showTitle": false,
     "tableResultSettingsMap": {},
     "title": ""
    }
   },
   "outputs": [],
   "source": [
    "funlo_new_aggs_seg.display()"
   ]
  },
  {
   "cell_type": "markdown",
   "metadata": {
    "application/vnd.databricks.v1+cell": {
     "cellMetadata": {
      "byteLimit": 2048000,
      "rowLimit": 10000
     },
     "inputWidgets": {},
     "nuid": "3dd5cdd9-d22c-41ef-9104-f48913c1c669",
     "showTitle": false,
     "tableResultSettingsMap": {},
     "title": ""
    }
   },
   "source": [
    "##CDS X TEST"
   ]
  },
  {
   "cell_type": "code",
   "execution_count": 0,
   "metadata": {
    "application/vnd.databricks.v1+cell": {
     "cellMetadata": {
      "byteLimit": 2048000,
      "rowLimit": 10000
     },
     "inputWidgets": {},
     "nuid": "12b0a37d-2a0f-4629-8a10-7ea8bf69f8e6",
     "showTitle": false,
     "tableResultSettingsMap": {},
     "title": ""
    }
   },
   "outputs": [],
   "source": [
    "test_cds = test.join(cds, on = \"ehhn\", how = \"inner\")"
   ]
  },
  {
   "cell_type": "markdown",
   "metadata": {
    "application/vnd.databricks.v1+cell": {
     "cellMetadata": {
      "byteLimit": 2048000,
      "rowLimit": 10000
     },
     "inputWidgets": {},
     "nuid": "5c686be1-c3e8-46d6-9eaf-bf137176e83d",
     "showTitle": false,
     "tableResultSettingsMap": {},
     "title": ""
    }
   },
   "source": [
    "###Price Dim Seg"
   ]
  },
  {
   "cell_type": "code",
   "execution_count": 0,
   "metadata": {
    "application/vnd.databricks.v1+cell": {
     "cellMetadata": {
      "byteLimit": 2048000,
      "rowLimit": 10000
     },
     "inputWidgets": {},
     "nuid": "c48a6eff-51c3-4d18-941f-0463518cd04c",
     "showTitle": false,
     "tableResultSettingsMap": {},
     "title": ""
    }
   },
   "outputs": [],
   "source": [
    "test_price_aggs = test_cds.groupBy(\"price_dim_seg\", \"THEME\", \"DEPT\").agg(\n",
    "  f.countDistinct(\"guid\").alias(\"Unique_Guids\"),\n",
    "  f.countDistinct(\"ehhn\").alias(\"Unique_Households\"),\n",
    "  f.sum(\"THEME_SENT\").alias(\"THEME_SENT\"),\n",
    "  f.sum(\"THEME_OPEN\").alias(\"THEME_OPEN\"),\n",
    "  f.sum(\"THEME_CLICK\").alias(\"THEME_CLICK\"),\n",
    "  f.sum(\"THEME_UNSUBSCRIBE\").alias(\"THEME_UNSUBSCRIBE\"),\n",
    "  (f.sum(\"THEME_OPEN\") / f.sum(\"THEME_SENT\")).alias(\"theme_open_rate\"),\n",
    "  (f.sum(\"THEME_CLICK\") / f.sum(\"THEME_SENT\")).alias(\"theme_click_rate\"),\n",
    "  f.sum(\"DEPT_SENT\").alias(\"DEPT_SENT\"),\n",
    "  f.sum(\"DEPT_OPEN\").alias(\"DEPT_OPEN\"),\n",
    "  f.sum(\"DEPT_CLICK\").alias(\"DEPT_CLICK\"),\n",
    "  f.sum(\"DEPT_UNSUBSCRIBE\").alias(\"DEPT_UNSUBSCRIBE\"),\n",
    "  (f.sum(\"DEPT_OPEN\") / f.sum(\"DEPT_SENT\")).alias(\"dept_open_rate\"),\n",
    "  (f.sum(\"DEPT_CLICK\") / f.sum(\"DEPT_SENT\")).alias(\"dept_click_rate\"),\n",
    ")"
   ]
  },
  {
   "cell_type": "code",
   "execution_count": 0,
   "metadata": {
    "application/vnd.databricks.v1+cell": {
     "cellMetadata": {
      "byteLimit": 2048000,
      "rowLimit": 10000
     },
     "inputWidgets": {},
     "nuid": "18811f4b-4188-415c-8f66-98143b8a9a99",
     "showTitle": false,
     "tableResultSettingsMap": {},
     "title": ""
    }
   },
   "outputs": [],
   "source": [
    "test_price_aggs.display()"
   ]
  },
  {
   "cell_type": "code",
   "execution_count": 0,
   "metadata": {
    "application/vnd.databricks.v1+cell": {
     "cellMetadata": {
      "byteLimit": 2048000,
      "rowLimit": 10000
     },
     "inputWidgets": {},
     "nuid": "90f00c24-ad65-40e6-9ecc-6023f3388a5a",
     "showTitle": false,
     "tableResultSettingsMap": {},
     "title": ""
    }
   },
   "outputs": [],
   "source": [
    "test_price_aggs_solo = test_price_aggs.select(\"price_dim_seg\", \"DEPT\", \"DEPT_OPEN\",\"DEPT_UNSUBSCRIBE\", \"DEPT_SENT\").dropDuplicates()\n",
    "test_price_aggs_solo.groupBy(\"price_dim_seg\").agg(f.sum(\"DEPT_OPEN\"), f.sum(\"DEPT_SENT\"), f.sum(\"DEPT_OPEN\") / f.sum(\"DEPT_SENT\")).display()"
   ]
  },
  {
   "cell_type": "markdown",
   "metadata": {
    "application/vnd.databricks.v1+cell": {
     "cellMetadata": {
      "byteLimit": 2048000,
      "rowLimit": 10000
     },
     "inputWidgets": {},
     "nuid": "3a27f857-f9d8-4660-aeaf-b6743bd5c379",
     "showTitle": false,
     "tableResultSettingsMap": {},
     "title": ""
    }
   },
   "source": [
    "### Health Dim Seg"
   ]
  },
  {
   "cell_type": "code",
   "execution_count": 0,
   "metadata": {
    "application/vnd.databricks.v1+cell": {
     "cellMetadata": {
      "byteLimit": 2048000,
      "rowLimit": 10000
     },
     "inputWidgets": {},
     "nuid": "0df7b652-5875-403b-bf08-5d1f7ee249e5",
     "showTitle": false,
     "tableResultSettingsMap": {},
     "title": ""
    }
   },
   "outputs": [],
   "source": [
    "\n",
    "test_health_aggs = test_cds.groupBy(\"health_dim_seg\", \"THEME\", \"DEPT\").agg(\n",
    "  f.countDistinct(\"guid\").alias(\"Unique_Guids\"),\n",
    "  f.countDistinct(\"ehhn\").alias(\"Unique_Households\"),\n",
    "  f.sum(\"THEME_SENT\").alias(\"THEME_SENT\"),\n",
    "  f.sum(\"THEME_OPEN\").alias(\"THEME_OPEN\"),\n",
    "  f.sum(\"THEME_CLICK\").alias(\"THEME_CLICK\"),\n",
    "  f.sum(\"THEME_UNSUBSCRIBE\").alias(\"THEME_UNSUBSCRIBE\"),\n",
    "  (f.sum(\"THEME_OPEN\") / f.sum(\"THEME_SENT\")).alias(\"theme_open_rate\"),\n",
    "  (f.sum(\"THEME_CLICK\") / f.sum(\"THEME_SENT\")).alias(\"theme_click_rate\"),\n",
    "  f.sum(\"DEPT_SENT\").alias(\"DEPT_SENT\"),\n",
    "  f.sum(\"DEPT_OPEN\").alias(\"DEPT_OPEN\"),\n",
    "  f.sum(\"DEPT_CLICK\").alias(\"DEPT_CLICK\"),\n",
    "  f.sum(\"DEPT_UNSUBSCRIBE\").alias(\"DEPT_UNSUBSCRIBE\"),\n",
    "  (f.sum(\"DEPT_OPEN\") / f.sum(\"DEPT_SENT\")).alias(\"dept_open_rate\"),\n",
    "  (f.sum(\"DEPT_CLICK\") / f.sum(\"DEPT_SENT\")).alias(\"dept_click_rate\"),\n",
    ")"
   ]
  },
  {
   "cell_type": "code",
   "execution_count": 0,
   "metadata": {
    "application/vnd.databricks.v1+cell": {
     "cellMetadata": {
      "byteLimit": 2048000,
      "rowLimit": 10000
     },
     "inputWidgets": {},
     "nuid": "e2c12f5d-2900-45c7-94ec-4b4cf4516c74",
     "showTitle": false,
     "tableResultSettingsMap": {},
     "title": ""
    }
   },
   "outputs": [],
   "source": [
    "test_health_aggs.display()"
   ]
  },
  {
   "cell_type": "code",
   "execution_count": 0,
   "metadata": {
    "application/vnd.databricks.v1+cell": {
     "cellMetadata": {
      "byteLimit": 2048000,
      "rowLimit": 10000
     },
     "inputWidgets": {},
     "nuid": "9b11cf18-26a2-45ec-8ab0-14f89402a657",
     "showTitle": false,
     "tableResultSettingsMap": {},
     "title": ""
    }
   },
   "outputs": [],
   "source": [
    "test_health_aggs_solo = test_health_aggs.select(\"health_dim_seg\", \"DEPT\", \"DEPT_OPEN\",\"DEPT_UNSUBSCRIBE\", \"DEPT_SENT\").dropDuplicates()\n",
    "test_health_aggs_solo.groupBy(\"health_dim_seg\").agg(f.sum(\"DEPT_OPEN\"), f.sum(\"DEPT_SENT\"), f.sum(\"DEPT_OPEN\") / f.sum(\"DEPT_SENT\")).display()"
   ]
  },
  {
   "cell_type": "markdown",
   "metadata": {
    "application/vnd.databricks.v1+cell": {
     "cellMetadata": {
      "byteLimit": 2048000,
      "rowLimit": 10000
     },
     "inputWidgets": {},
     "nuid": "8bd8b961-5b77-430b-872e-4a19993e89e8",
     "showTitle": false,
     "tableResultSettingsMap": {},
     "title": ""
    }
   },
   "source": [
    "### Qualtity Dim Seg"
   ]
  },
  {
   "cell_type": "code",
   "execution_count": 0,
   "metadata": {
    "application/vnd.databricks.v1+cell": {
     "cellMetadata": {
      "byteLimit": 2048000,
      "rowLimit": 10000
     },
     "inputWidgets": {},
     "nuid": "6eb68a16-ee0d-40e5-abe8-cbd73548f6a9",
     "showTitle": false,
     "tableResultSettingsMap": {},
     "title": ""
    }
   },
   "outputs": [],
   "source": [
    "\n",
    "test_quality_aggs = test_cds.groupBy(\"quality_dim_seg\", \"THEME\", \"DEPT\").agg(\n",
    "  f.countDistinct(\"guid\").alias(\"Unique_Guids\"),\n",
    "  f.countDistinct(\"ehhn\").alias(\"Unique_Households\"),\n",
    "  f.sum(\"THEME_SENT\").alias(\"THEME_SENT\"),\n",
    "  f.sum(\"THEME_OPEN\").alias(\"THEME_OPEN\"),\n",
    "  f.sum(\"THEME_CLICK\").alias(\"THEME_CLICK\"),\n",
    "  f.sum(\"THEME_UNSUBSCRIBE\").alias(\"THEME_UNSUBSCRIBE\"),\n",
    "  (f.sum(\"THEME_OPEN\") / f.sum(\"THEME_SENT\")).alias(\"theme_open_rate\"),\n",
    "  (f.sum(\"THEME_CLICK\") / f.sum(\"THEME_SENT\")).alias(\"theme_click_rate\"),\n",
    "  f.sum(\"DEPT_SENT\").alias(\"DEPT_SENT\"),\n",
    "  f.sum(\"DEPT_OPEN\").alias(\"DEPT_OPEN\"),\n",
    "  f.sum(\"DEPT_CLICK\").alias(\"DEPT_CLICK\"),\n",
    "  f.sum(\"DEPT_UNSUBSCRIBE\").alias(\"DEPT_UNSUBSCRIBE\"),\n",
    "  (f.sum(\"DEPT_OPEN\") / f.sum(\"DEPT_SENT\")).alias(\"dept_open_rate\"),\n",
    "  (f.sum(\"DEPT_CLICK\") / f.sum(\"DEPT_SENT\")).alias(\"dept_click_rate\"),\n",
    ")"
   ]
  },
  {
   "cell_type": "code",
   "execution_count": 0,
   "metadata": {
    "application/vnd.databricks.v1+cell": {
     "cellMetadata": {
      "byteLimit": 2048000,
      "rowLimit": 10000
     },
     "inputWidgets": {},
     "nuid": "38e05670-d4c7-40fb-bc66-6ffc673002ae",
     "showTitle": false,
     "tableResultSettingsMap": {},
     "title": ""
    }
   },
   "outputs": [],
   "source": [
    "test_quality_aggs.display()"
   ]
  },
  {
   "cell_type": "code",
   "execution_count": 0,
   "metadata": {
    "application/vnd.databricks.v1+cell": {
     "cellMetadata": {
      "byteLimit": 2048000,
      "rowLimit": 10000
     },
     "inputWidgets": {},
     "nuid": "5a1bf253-54cf-460d-82dd-294bd037efc4",
     "showTitle": false,
     "tableResultSettingsMap": {},
     "title": ""
    }
   },
   "outputs": [],
   "source": [
    "test_quality_aggs_solo = test_quality_aggs.select(\"quality_dim_seg\", \"DEPT\", \"DEPT_OPEN\",\"DEPT_UNSUBSCRIBE\", \"DEPT_SENT\").dropDuplicates()\n",
    "\n",
    "test_quality_aggs_solo.groupBy(\"quality_dim_seg\").agg(f.sum(\"DEPT_OPEN\"), f.sum(\"DEPT_SENT\"), f.sum(\"DEPT_OPEN\") / f.sum(\"DEPT_SENT\")).display()"
   ]
  },
  {
   "cell_type": "markdown",
   "metadata": {
    "application/vnd.databricks.v1+cell": {
     "cellMetadata": {
      "byteLimit": 2048000,
      "rowLimit": 10000
     },
     "inputWidgets": {},
     "nuid": "8652752e-f9ed-4bd9-842b-38c03977b8f1",
     "showTitle": false,
     "tableResultSettingsMap": {},
     "title": ""
    }
   },
   "source": [
    "### Convenience dim seg"
   ]
  },
  {
   "cell_type": "code",
   "execution_count": 0,
   "metadata": {
    "application/vnd.databricks.v1+cell": {
     "cellMetadata": {
      "byteLimit": 2048000,
      "rowLimit": 10000
     },
     "inputWidgets": {},
     "nuid": "12190e94-2423-4095-9b97-05f258390a03",
     "showTitle": false,
     "tableResultSettingsMap": {},
     "title": ""
    }
   },
   "outputs": [],
   "source": [
    "\n",
    "test_convenience_aggs = test_cds.groupBy(\"convenience_dim_seg\", \"THEME\", \"DEPT\").agg(\n",
    "  f.countDistinct(\"guid\").alias(\"Unique_Guids\"),\n",
    "  f.countDistinct(\"ehhn\").alias(\"Unique_Households\"),\n",
    "  f.sum(\"THEME_SENT\").alias(\"THEME_SENT\"),\n",
    "  f.sum(\"THEME_OPEN\").alias(\"THEME_OPEN\"),\n",
    "  f.sum(\"THEME_CLICK\").alias(\"THEME_CLICK\"),\n",
    "  f.sum(\"THEME_UNSUBSCRIBE\").alias(\"THEME_UNSUBSCRIBE\"),\n",
    "  (f.sum(\"THEME_OPEN\") / f.sum(\"THEME_SENT\")).alias(\"theme_open_rate\"),\n",
    "  (f.sum(\"THEME_CLICK\") / f.sum(\"THEME_SENT\")).alias(\"theme_click_rate\"),\n",
    "  f.sum(\"DEPT_SENT\").alias(\"DEPT_SENT\"),\n",
    "  f.sum(\"DEPT_OPEN\").alias(\"DEPT_OPEN\"),\n",
    "  f.sum(\"DEPT_CLICK\").alias(\"DEPT_CLICK\"),\n",
    "  f.sum(\"DEPT_UNSUBSCRIBE\").alias(\"DEPT_UNSUBSCRIBE\"),\n",
    "  (f.sum(\"DEPT_OPEN\") / f.sum(\"DEPT_SENT\")).alias(\"dept_open_rate\"),\n",
    "  (f.sum(\"DEPT_CLICK\") / f.sum(\"DEPT_SENT\")).alias(\"dept_click_rate\"),\n",
    ")"
   ]
  },
  {
   "cell_type": "code",
   "execution_count": 0,
   "metadata": {
    "application/vnd.databricks.v1+cell": {
     "cellMetadata": {
      "byteLimit": 2048000,
      "rowLimit": 10000
     },
     "inputWidgets": {},
     "nuid": "84f40372-b402-438e-be45-73b033d5554a",
     "showTitle": false,
     "tableResultSettingsMap": {},
     "title": ""
    }
   },
   "outputs": [],
   "source": [
    "test_convenience_aggs.display()"
   ]
  },
  {
   "cell_type": "code",
   "execution_count": 0,
   "metadata": {
    "application/vnd.databricks.v1+cell": {
     "cellMetadata": {
      "byteLimit": 2048000,
      "rowLimit": 10000
     },
     "inputWidgets": {},
     "nuid": "5f4942da-1589-4448-be4c-24fe13ac4028",
     "showTitle": false,
     "tableResultSettingsMap": {},
     "title": ""
    }
   },
   "outputs": [],
   "source": [
    "test_convenience_aggs_solo = test_convenience_aggs.select(\"convenience_dim_seg\", \"DEPT\", \"DEPT_OPEN\",\"DEPT_UNSUBSCRIBE\", \"DEPT_SENT\").dropDuplicates()\n",
    "\n",
    "test_convenience_aggs_solo.groupBy(\"convenience_dim_seg\").agg(f.sum(\"DEPT_OPEN\"), f.sum(\"DEPT_SENT\"), f.sum(\"DEPT_OPEN\") / f.sum(\"DEPT_SENT\")).display()"
   ]
  },
  {
   "cell_type": "markdown",
   "metadata": {
    "application/vnd.databricks.v1+cell": {
     "cellMetadata": {
      "byteLimit": 2048000,
      "rowLimit": 10000
     },
     "inputWidgets": {},
     "nuid": "46467eaf-f4ab-468c-b74f-edf73cb0ca78",
     "showTitle": false,
     "tableResultSettingsMap": {},
     "title": ""
    }
   },
   "source": [
    "### Variety Seeking Dim Seg"
   ]
  },
  {
   "cell_type": "code",
   "execution_count": 0,
   "metadata": {
    "application/vnd.databricks.v1+cell": {
     "cellMetadata": {
      "byteLimit": 2048000,
      "rowLimit": 10000
     },
     "inputWidgets": {},
     "nuid": "bfa3c88f-d9a1-4bbb-b7a6-198c4fa28540",
     "showTitle": false,
     "tableResultSettingsMap": {},
     "title": ""
    }
   },
   "outputs": [],
   "source": [
    "test_variety_aggs = test_cds.groupBy(\"variety_seeking_dim_seg\",\"THEME\", \"DEPT\").agg(\n",
    "  f.countDistinct(\"guid\").alias(\"Unique_Guids\"),\n",
    "  f.countDistinct(\"ehhn\").alias(\"Unique_Households\"),\n",
    "  f.sum(\"THEME_SENT\").alias(\"THEME_SENT\"),\n",
    "  f.sum(\"THEME_OPEN\").alias(\"THEME_OPEN\"),\n",
    "  f.sum(\"THEME_CLICK\").alias(\"THEME_CLICK\"),\n",
    "  f.sum(\"THEME_UNSUBSCRIBE\").alias(\"THEME_UNSUBSCRIBE\"),\n",
    "  (f.sum(\"THEME_OPEN\") / f.sum(\"THEME_SENT\")).alias(\"theme_open_rate\"),\n",
    "  (f.sum(\"THEME_CLICK\") / f.sum(\"THEME_SENT\")).alias(\"theme_click_rate\"),\n",
    "  f.sum(\"DEPT_SENT\").alias(\"DEPT_SENT\"),\n",
    "  f.sum(\"DEPT_OPEN\").alias(\"DEPT_OPEN\"),\n",
    "  f.sum(\"DEPT_CLICK\").alias(\"DEPT_CLICK\"),\n",
    "  f.sum(\"DEPT_UNSUBSCRIBE\").alias(\"DEPT_UNSUBSCRIBE\"),\n",
    "  (f.sum(\"DEPT_OPEN\") / f.sum(\"DEPT_SENT\")).alias(\"dept_open_rate\"),\n",
    "  (f.sum(\"DEPT_CLICK\") / f.sum(\"DEPT_SENT\")).alias(\"dept_click_rate\"),\n",
    ")"
   ]
  },
  {
   "cell_type": "code",
   "execution_count": 0,
   "metadata": {
    "application/vnd.databricks.v1+cell": {
     "cellMetadata": {
      "byteLimit": 2048000,
      "rowLimit": 10000
     },
     "inputWidgets": {},
     "nuid": "671890de-0492-4f34-8572-457c4d4c5eaf",
     "showTitle": false,
     "tableResultSettingsMap": {},
     "title": ""
    }
   },
   "outputs": [],
   "source": [
    "test_variety_aggs.display()"
   ]
  },
  {
   "cell_type": "code",
   "execution_count": 0,
   "metadata": {
    "application/vnd.databricks.v1+cell": {
     "cellMetadata": {
      "byteLimit": 2048000,
      "rowLimit": 10000
     },
     "inputWidgets": {},
     "nuid": "79f2ae35-c68f-4996-ba72-58151d203997",
     "showTitle": false,
     "tableResultSettingsMap": {},
     "title": ""
    }
   },
   "outputs": [],
   "source": [
    "test_variety_aggs_solo = test_variety_aggs.select(\"variety_seeking_dim_seg\", \"DEPT\", \"DEPT_OPEN\",\"DEPT_UNSUBSCRIBE\", \"DEPT_SENT\").dropDuplicates()\n",
    "\n",
    "test_variety_aggs_solo.groupBy(\"variety_seeking_dim_seg\").agg(f.sum(\"DEPT_OPEN\"), f.sum(\"DEPT_SENT\"), f.sum(\"DEPT_OPEN\") / f.sum(\"DEPT_SENT\")).display()"
   ]
  },
  {
   "cell_type": "markdown",
   "metadata": {
    "application/vnd.databricks.v1+cell": {
     "cellMetadata": {
      "byteLimit": 2048000,
      "rowLimit": 10000
     },
     "inputWidgets": {},
     "nuid": "487d2829-7c56-4532-b575-b79f45c064f7",
     "showTitle": false,
     "tableResultSettingsMap": {},
     "title": ""
    }
   },
   "source": [
    "##ACDS X TEST"
   ]
  },
  {
   "cell_type": "markdown",
   "metadata": {
    "application/vnd.databricks.v1+cell": {
     "cellMetadata": {
      "byteLimit": 2048000,
      "rowLimit": 10000
     },
     "inputWidgets": {},
     "nuid": "f6f8e144-06f9-40cd-8e49-27b0f30a044f",
     "showTitle": false,
     "tableResultSettingsMap": {},
     "title": ""
    }
   },
   "source": []
  }
 ],
 "metadata": {
  "application/vnd.databricks.v1+notebook": {
   "computePreferences": null,
   "dashboards": [],
   "environmentMetadata": {
    "base_environment": "",
    "environment_version": "2"
   },
   "language": "python",
   "notebookMetadata": {
    "pythonIndentUnit": 2
   },
   "notebookName": "Subhi eda?",
   "widgets": {}
  },
  "language_info": {
   "name": "python"
  }
 },
 "nbformat": 4,
 "nbformat_minor": 0
}
