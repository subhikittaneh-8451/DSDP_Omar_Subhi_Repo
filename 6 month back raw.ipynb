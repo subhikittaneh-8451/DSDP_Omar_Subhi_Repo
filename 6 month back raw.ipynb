{
 "cells": [
  {
   "cell_type": "markdown",
   "metadata": {
    "application/vnd.databricks.v1+cell": {
     "cellMetadata": {},
     "inputWidgets": {},
     "nuid": "ded4453a-4a29-4bd8-9765-dac59d3bb59e",
     "showTitle": false,
     "tableResultSettingsMap": {},
     "title": ""
    }
   },
   "source": [
    "%md\n",
    "## Note on tables in schema: \n",
    "- `all_model_inputs` ==  `baseline_feature_inputs` \n",
    "  - all new tag model input data. multiple observations per GUID/theme or GUID/dept combo, because table is compiled from weekly table. guids that have been active that week are included.\n",
    "- `model_input_agg`\n",
    "  - all new tag model input data, aggregated such that all the open/click rates are calculated for a GUID over time, not just by week. includes all new tags data\n",
    "\n",
    "- `dc-vb_old_tags_model_inputs` \n",
    "  - table created to be similar format as `all_model_inputs`, but for old tags. only includes a months worth of data (jan-feb 2025). good for developing EDA pipeline, but any insights will use the following table, `old_tags_model_inputs_6mo`\n",
    "\n",
    "- `old_tags_model_inputs_6mo`\n",
    "  - table created to be similar format as `all_model_inputs`, but for old tags. include the 6 months of interest. **extremely useful**. will have to join with active GUIDs to get EHHNs \n",
    "\n",
    "- `dc_vb_new_tags_ehhn`\n",
    "  - ignore, same as `all_model_inputs`, but joined with active guid-ehhn mapping. includes GUIDs/EHHNs active in the last 6 months. still has the issue of multiple observations of click rates by week. use `model_inputs_agg_6mo` instead\n",
    "\n",
    "-  `model_inputs_raw`\n",
    "    - same as `all_model_inputs`, but only for the 6 months of interest. multiple click rates by week problem still applicable\n",
    "\n",
    "- `model_inputs_agg_6mo`\n",
    "  - new tag model input data, for the 6 months of interest, and no multiple rates per guid issue. **extremely useful**\n",
    "\n",
    "- `funlo_rollup_agg`, `funlo_seg_agg`, `segs_and_rates`, `price_seg_agg`, `health_seg_agg`, `quality_seg_agg`, `convenience_seg_agg`, `variety_seg_agg` \n",
    "  - all segmentation based aggregations of click and open rates, useful to tell if there are meaningful interaction differences between different common segmentations. all with new tags. \n",
    "\n",
    "- `old_tags_6mo_ehhns` \n",
    "  - same as `old_tags_model_inputs_6mo`, joined with active GUIDs for the 6 months"
   ]
  },
  {
   "cell_type": "code",
   "execution_count": 0,
   "metadata": {
    "application/vnd.databricks.v1+cell": {
     "cellMetadata": {
      "byteLimit": 2048000,
      "rowLimit": 10000
     },
     "inputWidgets": {},
     "nuid": "58496f64-3e1e-4bc7-8b88-af03f5b78b26",
     "showTitle": false,
     "tableResultSettingsMap": {},
     "title": ""
    }
   },
   "outputs": [],
   "source": [
    "from datetime import datetime, timedelta\n",
    "import pyspark.sql.functions as f\n",
    "from pyspark.sql import Window\n",
    "from pyspark.sql import Row\n",
    "# Start and end dates\n",
    "start_date = datetime.strptime('20240823', '%Y%m%d')\n",
    "end_date = datetime.strptime('20250214', '%Y%m%d')\n",
    "\n",
    "# List to store the dates\n",
    "friday_dates = []\n",
    "\n",
    "# Generate dates\n",
    "current_date = start_date\n",
    "while current_date <= end_date:\n",
    "    friday_dates.append(current_date.strftime('%Y%m%d'))\n",
    "    current_date += timedelta(weeks=1)\n",
    "\n",
    "# Display the list of dates\n",
    "display(friday_dates)"
   ]
  },
  {
   "cell_type": "code",
   "execution_count": 0,
   "metadata": {
    "application/vnd.databricks.v1+cell": {
     "cellMetadata": {
      "byteLimit": 2048000,
      "rowLimit": 10000
     },
     "inputWidgets": {},
     "nuid": "084bf354-a773-4b4e-9a34-962c42aa688c",
     "showTitle": false,
     "tableResultSettingsMap": {},
     "title": ""
    }
   },
   "outputs": [],
   "source": [
    "\n",
    "model_inputs = None\n",
    "for a in friday_dates:\n",
    "  if a == friday_dates[0]:\n",
    "    files = spark.read.parquet(f\"/Volumes/personalization_dev/atc_decisioning/raupp_atc/content_tags_test_1/input_features/created_at={a}/*.snappy.parquet\")\n",
    "    model_inputs = files.withColumn(\"created_at\", f.lit(a))\n",
    "  \n",
    "  else:\n",
    "    print(a)\n",
    "    files = spark.read.parquet(f\"/Volumes/personalization_dev/atc_decisioning/raupp_atc/content_tags_test_1/input_features/created_at={a}/*.snappy.parquet\")\n",
    "    files = files.withColumn(\"created_at\", f.lit(a))\n",
    "    model_inputs = model_inputs.union(files)\n",
    "\n"
   ]
  },
  {
   "cell_type": "code",
   "execution_count": 0,
   "metadata": {
    "application/vnd.databricks.v1+cell": {
     "cellMetadata": {},
     "inputWidgets": {},
     "nuid": "47376cf2-67e2-459e-8b5d-6688cdd064b1",
     "showTitle": false,
     "tableResultSettingsMap": {},
     "title": ""
    }
   },
   "outputs": [],
   "source": []
  },
  {
   "cell_type": "code",
   "execution_count": 0,
   "metadata": {
    "application/vnd.databricks.v1+cell": {
     "cellMetadata": {
      "byteLimit": 2048000,
      "rowLimit": 10000
     },
     "inputWidgets": {},
     "nuid": "a978092d-1276-453e-b8b4-9c58e65ce916",
     "showTitle": false,
     "tableResultSettingsMap": {},
     "title": ""
    }
   },
   "outputs": [],
   "source": [
    "model_inputs.limit(50).display()"
   ]
  },
  {
   "cell_type": "code",
   "execution_count": 0,
   "metadata": {
    "application/vnd.databricks.v1+cell": {
     "cellMetadata": {
      "byteLimit": 2048000,
      "rowLimit": 10000
     },
     "inputWidgets": {},
     "nuid": "4b0a2b20-4900-47da-b4b6-131684540d77",
     "showTitle": false,
     "tableResultSettingsMap": {},
     "title": ""
    }
   },
   "outputs": [],
   "source": [
    "model_inputs.write.mode(\"overwrite\").saveAsTable(f\"sandbox_dev.tm_learning.model_inputs_raw\")"
   ]
  },
  {
   "cell_type": "code",
   "execution_count": 0,
   "metadata": {
    "application/vnd.databricks.v1+cell": {
     "cellMetadata": {
      "byteLimit": 2048000,
      "rowLimit": 10000
     },
     "inputWidgets": {},
     "nuid": "5bf32432-2388-4793-89ed-3aa37d472b47",
     "showTitle": false,
     "tableResultSettingsMap": {},
     "title": ""
    }
   },
   "outputs": [],
   "source": [
    "erm  = spark.read.table(\"sandbox_dev.tm_learning.model_inputs_raw\")"
   ]
  },
  {
   "cell_type": "code",
   "execution_count": 0,
   "metadata": {
    "application/vnd.databricks.v1+cell": {
     "cellMetadata": {
      "byteLimit": 2048000,
      "rowLimit": 10000
     },
     "inputWidgets": {},
     "nuid": "5c54a4b1-b77b-4bb0-a509-8871836117b9",
     "showTitle": false,
     "tableResultSettingsMap": {},
     "title": ""
    }
   },
   "outputs": [],
   "source": [
    "erm.select(\"created_at\").distinct().display()"
   ]
  },
  {
   "cell_type": "code",
   "execution_count": 0,
   "metadata": {
    "application/vnd.databricks.v1+cell": {
     "cellMetadata": {},
     "inputWidgets": {},
     "nuid": "2c1e1aa9-1749-4e00-a62c-fe438b1e8320",
     "showTitle": false,
     "tableResultSettingsMap": {},
     "title": ""
    }
   },
   "outputs": [],
   "source": [
    "files = spark.read.parquet(\"/Volumes/personalization_dev/atc_decisioning/raupp_atc/content_tags_test_1/input_features/created_at=20240823/*.snappy.parquet\")\n",
    "files = files.withColumn(\"created_at\", f.lit(\"20240823\"))\n",
    "files.limit(1).display()"
   ]
  },
  {
   "cell_type": "code",
   "execution_count": 0,
   "metadata": {
    "application/vnd.databricks.v1+cell": {
     "cellMetadata": {
      "byteLimit": 2048000,
      "rowLimit": 10000
     },
     "inputWidgets": {},
     "nuid": "5584042f-0f27-43d9-8590-570eff65ae15",
     "showTitle": false,
     "tableResultSettingsMap": {},
     "title": ""
    }
   },
   "outputs": [],
   "source": [
    "files = spark.read.parquet(\"/Volumes/personalization_dev/atc_decisioning/raupp_atc/content_tags_test_1/input_features/created_at=20240823/*.snappy.parquet\")"
   ]
  },
  {
   "cell_type": "code",
   "execution_count": 0,
   "metadata": {
    "application/vnd.databricks.v1+cell": {
     "cellMetadata": {},
     "inputWidgets": {},
     "nuid": "ec06d942-6c97-458f-8d22-d13054974c74",
     "showTitle": false,
     "tableResultSettingsMap": {},
     "title": ""
    }
   },
   "outputs": [],
   "source": [
    "files2 = spark.read.parquet(\"/Volumes/personalization_dev/atc_decisioning/raupp_atc/content_tags_test_1/input_features/created_at=20250214/*.snappy.parquet\")\n",
    "files2 = files.withColumn(\"created_at\", f.lit(\"20250214\"))\n",
    "files3 = files.union(files2)\n",
    "files3.filter(f.col(\"created_at\") == \"20250214\").limit(1).display()"
   ]
  },
  {
   "cell_type": "code",
   "execution_count": 0,
   "metadata": {
    "application/vnd.databricks.v1+cell": {
     "cellMetadata": {
      "byteLimit": 2048000,
      "rowLimit": 10000
     },
     "inputWidgets": {},
     "nuid": "17f29041-d994-446e-8c4b-b2d2de740034",
     "showTitle": false,
     "tableResultSettingsMap": {},
     "title": ""
    }
   },
   "outputs": [],
   "source": [
    "files.limit(1).display()"
   ]
  },
  {
   "cell_type": "code",
   "execution_count": 0,
   "metadata": {
    "application/vnd.databricks.v1+cell": {
     "cellMetadata": {
      "byteLimit": 2048000,
      "rowLimit": 10000
     },
     "inputWidgets": {},
     "nuid": "6eef5637-b70c-4698-bb0d-7d4444f5c8b0",
     "showTitle": false,
     "tableResultSettingsMap": {},
     "title": ""
    }
   },
   "outputs": [],
   "source": [
    "path = \"personalization_dev.atc.official_ehhn_model_tracker\"\n",
    "tracker = spark.read.format(\"delta\").table(path)"
   ]
  },
  {
   "cell_type": "code",
   "execution_count": 0,
   "metadata": {
    "application/vnd.databricks.v1+cell": {
     "cellMetadata": {
      "byteLimit": 2048000,
      "rowLimit": 10000
     },
     "inputWidgets": {},
     "nuid": "2205aba6-57d9-4f71-88a6-dce284dc9b09",
     "showTitle": false,
     "tableResultSettingsMap": {},
     "title": ""
    }
   },
   "outputs": [],
   "source": [
    "tracker.limit(5).display()\n",
    "tracker = tracker.filter((f.col(\"start_date\") == \"2024-08-02\") & (f.col(\"decisioning_path\") == \"bau_min_score_0\"))\n"
   ]
  },
  {
   "cell_type": "code",
   "execution_count": 0,
   "metadata": {
    "application/vnd.databricks.v1+cell": {
     "cellMetadata": {
      "byteLimit": 2048000,
      "rowLimit": 10000
     },
     "inputWidgets": {},
     "nuid": "79b129a1-b3c8-4e57-bdcf-023b1b69c09d",
     "showTitle": false,
     "tableResultSettingsMap": {},
     "title": ""
    }
   },
   "outputs": [],
   "source": [
    "tracker.select(\"end_date\").distinct().display()"
   ]
  },
  {
   "cell_type": "code",
   "execution_count": 0,
   "metadata": {
    "application/vnd.databricks.v1+cell": {
     "cellMetadata": {
      "byteLimit": 2048000,
      "rowLimit": 10000
     },
     "inputWidgets": {},
     "nuid": "f2a259e4-daf5-4e67-8058-f7e6150d201d",
     "showTitle": false,
     "tableResultSettingsMap": {},
     "title": ""
    }
   },
   "outputs": [],
   "source": [
    "tracker2 = tracker.withColumn(\n",
    "    \"test_group\",\n",
    "    f.when(f.col(\"end_date\") == \"2024-09-05\", 0)\n",
    "     .when(f.col(\"end_date\") == \"2024-10-24\", 1)\n",
    "     .when(f.col(\"end_date\") == \"2025-01-30\", 2)\n",
    ")"
   ]
  },
  {
   "cell_type": "code",
   "execution_count": 0,
   "metadata": {
    "application/vnd.databricks.v1+cell": {
     "cellMetadata": {
      "byteLimit": 2048000,
      "rowLimit": 10000
     },
     "inputWidgets": {},
     "nuid": "78c9a91f-e7d0-4f0b-affc-ad3895da2933",
     "showTitle": false,
     "tableResultSettingsMap": {},
     "title": ""
    }
   },
   "outputs": [],
   "source": [
    "tracker2.select(\"test_group\").distinct().display()"
   ]
  },
  {
   "cell_type": "code",
   "execution_count": 0,
   "metadata": {
    "application/vnd.databricks.v1+cell": {
     "cellMetadata": {
      "byteLimit": 2048000,
      "rowLimit": 10000
     },
     "inputWidgets": {},
     "nuid": "29316ac1-8926-4093-bd40-2d1b536bac5c",
     "showTitle": false,
     "tableResultSettingsMap": {},
     "title": ""
    }
   },
   "outputs": [],
   "source": [
    "tracker.groupBy(\"end_date\").agg(f.count(\"end_date\").alias(\"count\")).orderBy(\"end_date\").display()"
   ]
  },
  {
   "cell_type": "code",
   "execution_count": 0,
   "metadata": {
    "application/vnd.databricks.v1+cell": {
     "cellMetadata": {
      "byteLimit": 2048000,
      "rowLimit": 10000
     },
     "inputWidgets": {},
     "nuid": "97b148cc-54be-4b8c-9bf1-3d93662868d9",
     "showTitle": false,
     "tableResultSettingsMap": {},
     "title": ""
    }
   },
   "outputs": [],
   "source": [
    "tracker2.groupBy(\"test_group\").agg(f.count(\"test_group\").alias(\"count\")).orderBy(\"test_group\").display()"
   ]
  },
  {
   "cell_type": "code",
   "execution_count": 0,
   "metadata": {
    "application/vnd.databricks.v1+cell": {
     "cellMetadata": {
      "byteLimit": 2048000,
      "rowLimit": 10000
     },
     "inputWidgets": {},
     "nuid": "7de9732c-a142-4e31-a4cb-b5cd60568870",
     "showTitle": false,
     "tableResultSettingsMap": {},
     "title": ""
    }
   },
   "outputs": [],
   "source": [
    "aaaa = tracker.select(\"hhgroup\").distinct()"
   ]
  },
  {
   "cell_type": "code",
   "execution_count": 0,
   "metadata": {
    "application/vnd.databricks.v1+cell": {
     "cellMetadata": {
      "byteLimit": 2048000,
      "rowLimit": 10000
     },
     "inputWidgets": {},
     "nuid": "4566bd24-8cd9-4813-a1ce-f00c3f4db255",
     "showTitle": false,
     "tableResultSettingsMap": {},
     "title": ""
    }
   },
   "outputs": [],
   "source": [
    "aaaa.display()"
   ]
  },
  {
   "cell_type": "code",
   "execution_count": 0,
   "metadata": {
    "application/vnd.databricks.v1+cell": {
     "cellMetadata": {
      "byteLimit": 2048000,
      "rowLimit": 10000
     },
     "inputWidgets": {},
     "nuid": "be30efc5-34fb-465c-bb3b-007962cf2dfb",
     "showTitle": false,
     "tableResultSettingsMap": {},
     "title": ""
    }
   },
   "outputs": [],
   "source": [
    "model_inputs = spark.read.table(\"sandbox_dev.tm_learning.model_input_agg_6mo\")"
   ]
  },
  {
   "cell_type": "code",
   "execution_count": 0,
   "metadata": {
    "application/vnd.databricks.v1+cell": {
     "cellMetadata": {
      "byteLimit": 2048000,
      "rowLimit": 10000
     },
     "inputWidgets": {},
     "nuid": "f28467e7-6bc7-449c-b185-aa6249082ff4",
     "showTitle": false,
     "tableResultSettingsMap": {},
     "title": ""
    }
   },
   "outputs": [],
   "source": [
    "test = model_inputs.join(tracker.select(\"hhgroup\", \"ehhn\" ), on = \"ehhn\",how = \"inner\")"
   ]
  },
  {
   "cell_type": "code",
   "execution_count": 0,
   "metadata": {
    "application/vnd.databricks.v1+cell": {
     "cellMetadata": {
      "byteLimit": 2048000,
      "rowLimit": 10000
     },
     "inputWidgets": {},
     "nuid": "4b094638-5310-464b-bac3-576ed64f9845",
     "showTitle": false,
     "tableResultSettingsMap": {},
     "title": ""
    }
   },
   "outputs": [],
   "source": [
    "test.write.mode(\"overwrite\").saveAsTable(f\"sandbox_dev.tm_learning.model_inputs_6mo_hhgroup\")"
   ]
  },
  {
   "cell_type": "code",
   "execution_count": 0,
   "metadata": {
    "application/vnd.databricks.v1+cell": {
     "cellMetadata": {
      "byteLimit": 2048000,
      "rowLimit": 10000
     },
     "inputWidgets": {},
     "nuid": "cc01b72c-2ed0-4b0e-846b-c95597914b72",
     "showTitle": false,
     "tableResultSettingsMap": {},
     "title": ""
    }
   },
   "outputs": [],
   "source": [
    "test.display()"
   ]
  },
  {
   "cell_type": "code",
   "execution_count": 0,
   "metadata": {
    "application/vnd.databricks.v1+cell": {
     "cellMetadata": {
      "byteLimit": 2048000,
      "rowLimit": 10000
     },
     "inputWidgets": {},
     "nuid": "8d597d5c-f24b-41fd-b62a-1c08ddb32a4d",
     "showTitle": false,
     "tableResultSettingsMap": {},
     "title": ""
    }
   },
   "outputs": [],
   "source": [
    "test.groupBy(\"guid\", \"hhgroup\").agg(f.count(\"hhgroup\").alias(\"both\")).orderBy(\"guid\").display()"
   ]
  },
  {
   "cell_type": "code",
   "execution_count": 0,
   "metadata": {
    "application/vnd.databricks.v1+cell": {
     "cellMetadata": {
      "byteLimit": 2048000,
      "rowLimit": 10000
     },
     "inputWidgets": {},
     "nuid": "db96eab5-2acc-4120-af05-6a527d530e18",
     "showTitle": false,
     "tableResultSettingsMap": {},
     "title": ""
    }
   },
   "outputs": [],
   "source": [
    "test.filter(f.col(\"guid\") == \"00007C628B9A4988912E99EA5803D307\").display()"
   ]
  },
  {
   "cell_type": "code",
   "execution_count": 0,
   "metadata": {
    "application/vnd.databricks.v1+cell": {
     "cellMetadata": {
      "byteLimit": 2048000,
      "rowLimit": 10000
     },
     "inputWidgets": {},
     "nuid": "d32d9a16-cfc3-44a6-82b7-262985c639a0",
     "showTitle": false,
     "tableResultSettingsMap": {},
     "title": ""
    }
   },
   "outputs": [],
   "source": [
    "print(test.select(\"guid\").distinct().count())\n",
    "print(model_inputs.select(\"guid\").distinct().count())"
   ]
  },
  {
   "cell_type": "code",
   "execution_count": 0,
   "metadata": {
    "application/vnd.databricks.v1+cell": {
     "cellMetadata": {
      "byteLimit": 2048000,
      "rowLimit": 10000
     },
     "inputWidgets": {},
     "nuid": "d7bf13f8-3ed8-4717-a68d-bfeb3ee748c4",
     "showTitle": false,
     "tableResultSettingsMap": {},
     "title": ""
    }
   },
   "outputs": [],
   "source": [
    "\n",
    "old_model_inputs = spark.read.table(\"sandbox_dev.tm_learning.old_tags_6mo_ehhns\")"
   ]
  },
  {
   "cell_type": "code",
   "execution_count": 0,
   "metadata": {
    "application/vnd.databricks.v1+cell": {
     "cellMetadata": {
      "byteLimit": 2048000,
      "rowLimit": 10000
     },
     "inputWidgets": {},
     "nuid": "9b5c504a-9e9c-4a13-abe1-d438fcda3f17",
     "showTitle": false,
     "tableResultSettingsMap": {},
     "title": ""
    }
   },
   "outputs": [],
   "source": [
    "test2 = old_model_inputs.withColumnRenamed(\"GUID\", \"guid\").join(test.select(\"ehhn\", \"hhgroup\"), on = \"guid\",how = \"inner\")"
   ]
  },
  {
   "cell_type": "code",
   "execution_count": 0,
   "metadata": {
    "application/vnd.databricks.v1+cell": {
     "cellMetadata": {},
     "inputWidgets": {},
     "nuid": "d79d9502-e6a3-41c9-85c0-18f030c3c191",
     "showTitle": false,
     "tableResultSettingsMap": {},
     "title": ""
    }
   },
   "outputs": [],
   "source": [
    "test2.write.mode(\"overwrite\").saveAsTable(f\"sandbox_dev.tm_learning.model_inputs_6mo_hhgroup\")"
   ]
  },
  {
   "cell_type": "code",
   "execution_count": 0,
   "metadata": {
    "application/vnd.databricks.v1+cell": {
     "cellMetadata": {
      "byteLimit": 2048000,
      "rowLimit": 10000
     },
     "inputWidgets": {},
     "nuid": "5b73b1b1-85cc-482f-904e-9b459dde2d74",
     "showTitle": false,
     "tableResultSettingsMap": {},
     "title": ""
    }
   },
   "outputs": [],
   "source": [
    "print(test2.select(\"guid\").distinct().count())\n",
    "print(old_model_inputs.select(\"guid\").distinct().count())"
   ]
  },
  {
   "cell_type": "code",
   "execution_count": 0,
   "metadata": {
    "application/vnd.databricks.v1+cell": {
     "cellMetadata": {
      "byteLimit": 2048000,
      "rowLimit": 10000
     },
     "inputWidgets": {},
     "nuid": "2c09b8e2-5540-46ee-9e08-e07cd483c19e",
     "showTitle": false,
     "tableResultSettingsMap": {},
     "title": ""
    }
   },
   "outputs": [],
   "source": [
    "test2.groupBy(\"guid\", \"hhgroup\").agg(f.count(\"hhgroup\").alias(\"both\")).orderBy(\"guid\").display()"
   ]
  },
  {
   "cell_type": "code",
   "execution_count": 0,
   "metadata": {
    "application/vnd.databricks.v1+cell": {
     "cellMetadata": {
      "byteLimit": 2048000,
      "rowLimit": 10000
     },
     "inputWidgets": {},
     "nuid": "8d3828f7-03f8-422f-8658-4444a928a306",
     "showTitle": false,
     "tableResultSettingsMap": {},
     "title": ""
    }
   },
   "outputs": [],
   "source": [
    "overlap = model_inputs.join(old_model_inputs, on = \"guid\",how = \"inner\")"
   ]
  },
  {
   "cell_type": "code",
   "execution_count": 0,
   "metadata": {
    "application/vnd.databricks.v1+cell": {
     "cellMetadata": {},
     "inputWidgets": {},
     "nuid": "19eb21f4-0773-4227-92ba-adc4ed137d54",
     "showTitle": false,
     "tableResultSettingsMap": {},
     "title": ""
    }
   },
   "outputs": [],
   "source": []
  }
 ],
 "metadata": {
  "application/vnd.databricks.v1+notebook": {
   "computePreferences": null,
   "dashboards": [],
   "environmentMetadata": {
    "base_environment": "",
    "environment_version": "2"
   },
   "language": "python",
   "notebookMetadata": {
    "pythonIndentUnit": 2
   },
   "notebookName": "6 month back raw",
   "widgets": {}
  },
  "language_info": {
   "name": "python"
  }
 },
 "nbformat": 4,
 "nbformat_minor": 0
}
