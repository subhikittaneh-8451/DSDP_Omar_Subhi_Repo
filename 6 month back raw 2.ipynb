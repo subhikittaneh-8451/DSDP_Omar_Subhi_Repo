{
 "cells": [
  {
   "cell_type": "code",
   "execution_count": 0,
   "metadata": {
    "application/vnd.databricks.v1+cell": {
     "cellMetadata": {
      "byteLimit": 2048000,
      "rowLimit": 10000
     },
     "inputWidgets": {},
     "nuid": "1717aee7-7698-482f-a469-bd435ad149c7",
     "showTitle": false,
     "tableResultSettingsMap": {},
     "title": ""
    }
   },
   "outputs": [],
   "source": [
    "%pip install --quiet airspace"
   ]
  },
  {
   "cell_type": "code",
   "execution_count": 0,
   "metadata": {
    "application/vnd.databricks.v1+cell": {
     "cellMetadata": {
      "byteLimit": 2048000,
      "rowLimit": 10000
     },
     "inputWidgets": {},
     "nuid": "0a409c4f-1c0c-47a0-939b-35b4441198dd",
     "showTitle": false,
     "tableResultSettingsMap": {},
     "title": ""
    }
   },
   "outputs": [],
   "source": [
    "dbutils.library.restartPython()"
   ]
  },
  {
   "cell_type": "code",
   "execution_count": 0,
   "metadata": {
    "application/vnd.databricks.v1+cell": {
     "cellMetadata": {
      "byteLimit": 2048000,
      "rowLimit": 10000
     },
     "inputWidgets": {},
     "nuid": "7db7da7a-d05d-4d7f-9ad8-067b37d77139",
     "showTitle": false,
     "tableResultSettingsMap": {},
     "title": ""
    }
   },
   "outputs": [],
   "source": [
    "import pyspark.sql.functions as f\n",
    "from pyspark.sql import Window\n",
    "from pyspark.sql import Row\n",
    "from functools import partial\n",
    "import seg\n",
    "import kayday as kd\n",
    "from seg.utils import DateType\n",
    "from IPython.display import Image as img\n",
    "from IPython.display import display as img_display\n",
    "from effodata import ACDS, golden_rules, Sifter, Equality, Joiner, Lambda\n",
    "from kpi_metrics import KPI, available_metrics as  amKPI, get_metrics, AliasMetric, AliasGroupby, CustomMetric\n",
    "import upc_input\n",
    "\n",
    "import airspace\n",
    "from datetime import datetime, timedelta\n",
    "from dateutil.relativedelta import relativedelta"
   ]
  },
  {
   "cell_type": "code",
   "execution_count": 0,
   "metadata": {
    "application/vnd.databricks.v1+cell": {
     "cellMetadata": {
      "byteLimit": 2048000,
      "rowLimit": 10000
     },
     "inputWidgets": {},
     "nuid": "ebefcfaa-3d2c-4482-88dd-d4d8d01dc09b",
     "showTitle": false,
     "tableResultSettingsMap": {},
     "title": ""
    }
   },
   "outputs": [],
   "source": [
    "from datetime import datetime, timedelta\n",
    "import pyspark.sql.functions as f\n",
    "from pyspark.sql import Window\n",
    "from pyspark.sql import Row\n",
    "# Start and end dates\n",
    "start_date = datetime.strptime('20240823', '%Y%m%d')\n",
    "end_date = datetime.strptime('20250214', '%Y%m%d')\n",
    "\n",
    "# List to store the dates\n",
    "friday_dates = []\n",
    "\n",
    "# Generate dates\n",
    "current_date = start_date\n",
    "while current_date <= end_date:\n",
    "    friday_dates.append(current_date.strftime('%Y%m%d'))\n",
    "    current_date += timedelta(weeks=1)\n",
    "\n",
    "# Display the list of dates\n",
    "display(friday_dates)"
   ]
  },
  {
   "cell_type": "code",
   "execution_count": 0,
   "metadata": {
    "application/vnd.databricks.v1+cell": {
     "cellMetadata": {
      "byteLimit": 2048000,
      "rowLimit": 10000
     },
     "inputWidgets": {},
     "nuid": "c23f4d5a-46d7-49b4-b8c6-38a91d9dde31",
     "showTitle": false,
     "tableResultSettingsMap": {},
     "title": ""
    }
   },
   "outputs": [],
   "source": [
    "\n",
    "model_inputs = None\n",
    "for a in friday_dates:\n",
    "  if a == friday_dates[0]:\n",
    "    files = spark.read.parquet(f\"/Volumes/personalization_dev/atc_decisioning/raupp_atc/content_tags_test_1/input_features/created_at={a}/*.snappy.parquet\")\n",
    "    model_inputs = files.withColumn(\"created_at\", f.lit(a))\n",
    "  \n",
    "  else:\n",
    "    print(a)\n",
    "    files = spark.read.parquet(f\"/Volumes/personalization_dev/atc_decisioning/raupp_atc/content_tags_test_1/input_features/created_at={a}/*.snappy.parquet\")\n",
    "    files = files.withColumn(\"created_at\", f.lit(a)) \n",
    "\n",
    "\n",
    "    model_inputs = model_inputs.union(files)\n",
    "\n",
    "\n"
   ]
  },
  {
   "cell_type": "code",
   "execution_count": 0,
   "metadata": {
    "application/vnd.databricks.v1+cell": {
     "cellMetadata": {
      "byteLimit": 2048000,
      "rowLimit": 10000
     },
     "inputWidgets": {},
     "nuid": "2ec89d5f-4d4e-45b9-95c1-103ace4d6207",
     "showTitle": false,
     "tableResultSettingsMap": {},
     "title": ""
    }
   },
   "outputs": [],
   "source": [
    "model_inputs.groupBy(\"EMAIL_THEME\", \"DEFAULT_THEME\").agg(f.countDistinct(\"GUID\")).display()"
   ]
  },
  {
   "cell_type": "code",
   "execution_count": 0,
   "metadata": {
    "application/vnd.databricks.v1+cell": {
     "cellMetadata": {
      "byteLimit": 2048000,
      "rowLimit": 10000
     },
     "inputWidgets": {},
     "nuid": "7b5d3372-0ada-4999-9c43-9db1aa8fb368",
     "showTitle": false,
     "tableResultSettingsMap": {},
     "title": ""
    }
   },
   "outputs": [],
   "source": [
    "path = \"personalization_dev.atc.official_ehhn_model_tracker\"\n",
    "tracker = spark.read.format(\"delta\").table(path)\n",
    "tracker = tracker.filter((f.col(\"start_date\") == \"2024-08-02\") & (f.col(\"decisioning_path\") == \"bau_min_score_0\"))"
   ]
  },
  {
   "cell_type": "code",
   "execution_count": 0,
   "metadata": {
    "application/vnd.databricks.v1+cell": {
     "cellMetadata": {
      "byteLimit": 2048000,
      "rowLimit": 10000
     },
     "inputWidgets": {},
     "nuid": "2646491f-593a-4c2e-81ad-3a74e2b2cad3",
     "showTitle": false,
     "tableResultSettingsMap": {},
     "title": ""
    }
   },
   "outputs": [],
   "source": [
    "datetime.strptime('20250203', '%Y%m%d')\n",
    "start_date = (datetime.today() - relativedelta(months=6)).strftime('%Y%m%d')\n",
    "end_date = datetime.today().strftime('%Y%m%d')\n",
    "\n",
    "config = {\n",
    "  'start_date': start_date,\n",
    "  'end_date' : end_date\n",
    "}\n",
    "as_mapping = airspace.email_households(config)"
   ]
  },
  {
   "cell_type": "code",
   "execution_count": 0,
   "metadata": {
    "application/vnd.databricks.v1+cell": {
     "cellMetadata": {
      "byteLimit": 2048000,
      "rowLimit": 10000
     },
     "inputWidgets": {},
     "nuid": "cb101b38-8cb9-472c-a432-e9f0b1e827aa",
     "showTitle": false,
     "tableResultSettingsMap": {},
     "title": ""
    }
   },
   "outputs": [],
   "source": [
    "features_raw = model_inputs.withColumnRenamed(\"GUID\", \"guid\").join(as_mapping, on = 'guid', how = \"inner\")"
   ]
  },
  {
   "cell_type": "code",
   "execution_count": 0,
   "metadata": {
    "application/vnd.databricks.v1+cell": {
     "cellMetadata": {
      "byteLimit": 2048000,
      "rowLimit": 10000
     },
     "inputWidgets": {},
     "nuid": "847ce144-1863-481c-bb51-6a62305ee34f",
     "showTitle": false,
     "tableResultSettingsMap": {},
     "title": ""
    }
   },
   "outputs": [],
   "source": [
    "print(features_raw.count())\n",
    "print(features_raw.select(\"guid\").distinct().count())\n",
    "print(features_raw.select(\"ehhn\").distinct().count())"
   ]
  },
  {
   "cell_type": "code",
   "execution_count": 0,
   "metadata": {
    "application/vnd.databricks.v1+cell": {
     "cellMetadata": {
      "byteLimit": 2048000,
      "rowLimit": 10000
     },
     "inputWidgets": {},
     "nuid": "ce7a86c1-c1ab-4b54-8632-65691502c760",
     "showTitle": false,
     "tableResultSettingsMap": {},
     "title": ""
    }
   },
   "outputs": [],
   "source": [
    "features_raw_hh = features_raw.join(tracker.select(\"hhgroup\", \"ehhn\", \"end_date\" ), on = \"ehhn\",how = \"inner\")"
   ]
  },
  {
   "cell_type": "code",
   "execution_count": 0,
   "metadata": {
    "application/vnd.databricks.v1+cell": {
     "cellMetadata": {
      "byteLimit": 2048000,
      "rowLimit": 10000
     },
     "inputWidgets": {},
     "nuid": "4f3ddadb-5e27-4449-bde9-5ddc8f939ac7",
     "showTitle": false,
     "tableResultSettingsMap": {},
     "title": ""
    }
   },
   "outputs": [],
   "source": [
    "features_raw_hh = features_raw_hh.withColumn(\n",
    "    \"test_group\",\n",
    "    f.when((f.col(\"hhgroup\") == \"test\") & (f.col(\"end_date\") == \"2024-09-05\"), 0)\n",
    "     .when((f.col(\"hhgroup\") == \"test\") & (f.col(\"end_date\") == \"2024-10-24\"), 1)\n",
    "     .when((f.col(\"hhgroup\") == \"test\") & (f.col(\"end_date\") == \"2025-01-30\"), 2)\n",
    "     .otherwise(-1)\n",
    ")"
   ]
  },
  {
   "cell_type": "code",
   "execution_count": 0,
   "metadata": {
    "application/vnd.databricks.v1+cell": {
     "cellMetadata": {
      "byteLimit": 2048000,
      "rowLimit": 10000
     },
     "inputWidgets": {},
     "nuid": "a67f0a7b-c2e7-4777-b470-816ef8c00f7e",
     "showTitle": false,
     "tableResultSettingsMap": {},
     "title": ""
    }
   },
   "outputs": [],
   "source": [
    "test = features_raw_hh.filter(f.col(\"end_date\") < f.col(\"created_at\"))\n",
    "\n",
    "test.limit(10).display()"
   ]
  },
  {
   "cell_type": "code",
   "execution_count": 0,
   "metadata": {
    "application/vnd.databricks.v1+cell": {
     "cellMetadata": {
      "byteLimit": 2048000,
      "rowLimit": 10000
     },
     "inputWidgets": {},
     "nuid": "e0b369ea-f5ed-455e-9425-e3a80061a25e",
     "showTitle": false,
     "tableResultSettingsMap": {},
     "title": ""
    }
   },
   "outputs": [],
   "source": [
    "features_raw_hh.filter(f.col(\"end_date\") < f.col(\"created_at\")).count()"
   ]
  },
  {
   "cell_type": "code",
   "execution_count": 0,
   "metadata": {
    "application/vnd.databricks.v1+cell": {
     "cellMetadata": {
      "byteLimit": 2048000,
      "rowLimit": 10000
     },
     "inputWidgets": {},
     "nuid": "e40be1a4-3fda-4f5d-b81a-7a19dbfdeb0d",
     "showTitle": false,
     "tableResultSettingsMap": {},
     "title": ""
    }
   },
   "outputs": [],
   "source": [
    "print(features_raw_hh.count())\n",
    "print(features_raw_hh.select(\"guid\").distinct().count())\n",
    "print(features_raw_hh.select(\"ehhn\").distinct().count())\n",
    "print(tracker.select(\"ehhn\").distinct().count())"
   ]
  },
  {
   "cell_type": "code",
   "execution_count": 0,
   "metadata": {
    "application/vnd.databricks.v1+cell": {
     "cellMetadata": {
      "byteLimit": 2048000,
      "rowLimit": 10000
     },
     "inputWidgets": {},
     "nuid": "d8cc645a-5d7f-4583-aa73-a54cba549c8a",
     "showTitle": false,
     "tableResultSettingsMap": {},
     "title": ""
    }
   },
   "outputs": [],
   "source": [
    "features_raw_hh.limit(10).display()"
   ]
  },
  {
   "cell_type": "code",
   "execution_count": 0,
   "metadata": {
    "application/vnd.databricks.v1+cell": {
     "cellMetadata": {
      "byteLimit": 2048000,
      "rowLimit": 10000
     },
     "inputWidgets": {},
     "nuid": "f3dd028c-196a-49fa-87fb-6e033a6806fa",
     "showTitle": false,
     "tableResultSettingsMap": {},
     "title": ""
    }
   },
   "outputs": [],
   "source": [
    "features_raw_hh.write.mode(\"overwrite\").saveAsTable(f\"sandbox_dev.tm_learning.model_features_raw\")"
   ]
  },
  {
   "cell_type": "code",
   "execution_count": 0,
   "metadata": {
    "application/vnd.databricks.v1+cell": {
     "cellMetadata": {
      "byteLimit": 2048000,
      "rowLimit": 10000
     },
     "inputWidgets": {},
     "nuid": "4847a78b-9475-4bfa-92bf-79904f705df1",
     "showTitle": false,
     "tableResultSettingsMap": {},
     "title": ""
    }
   },
   "outputs": [],
   "source": [
    "raw = spark.read.table(f\"sandbox_dev.tm_learning.model_features_raw\")"
   ]
  },
  {
   "cell_type": "code",
   "execution_count": 0,
   "metadata": {
    "application/vnd.databricks.v1+cell": {
     "cellMetadata": {
      "byteLimit": 2048000,
      "rowLimit": 10000
     },
     "inputWidgets": {},
     "nuid": "5704b54a-e1e4-410b-80ed-f5507753fac7",
     "showTitle": false,
     "tableResultSettingsMap": {},
     "title": ""
    }
   },
   "outputs": [],
   "source": [
    "raw.groupby(\"hhgroup\").agg(f.countDistinct(\"guid\")).display()"
   ]
  },
  {
   "cell_type": "code",
   "execution_count": 0,
   "metadata": {
    "application/vnd.databricks.v1+cell": {
     "cellMetadata": {
      "byteLimit": 2048000,
      "rowLimit": 10000
     },
     "inputWidgets": {},
     "nuid": "ca8914c0-e937-44f6-8ba7-c6ccf33e0f60",
     "showTitle": false,
     "tableResultSettingsMap": {},
     "title": ""
    }
   },
   "outputs": [],
   "source": [
    "tag_path = \"abfss://atc@sa8451rauppdev.dfs.core.windows.net/content_tags_test_1/missing_tags/*/*\"\n",
    "tags = spark.read.csv(tag_path, header=True, inferSchema=True)\n",
    "tags.limit(5).display()"
   ]
  },
  {
   "cell_type": "code",
   "execution_count": 0,
   "metadata": {
    "application/vnd.databricks.v1+cell": {
     "cellMetadata": {
      "byteLimit": 2048000,
      "rowLimit": 10000
     },
     "inputWidgets": {},
     "nuid": "70c5c928-7c1b-4c86-b434-5f188571037e",
     "showTitle": false,
     "tableResultSettingsMap": {},
     "title": ""
    }
   },
   "outputs": [],
   "source": [
    "tags.filter(f.col(\"EMAIL_START_DT\") >= \"2024-08-02\").distinct().display()"
   ]
  },
  {
   "cell_type": "code",
   "execution_count": 0,
   "metadata": {
    "application/vnd.databricks.v1+cell": {
     "cellMetadata": {},
     "inputWidgets": {},
     "nuid": "b31c9dac-b520-4882-b908-b0e4009bd71d",
     "showTitle": false,
     "tableResultSettingsMap": {},
     "title": ""
    }
   },
   "outputs": [],
   "source": []
  }
 ],
 "metadata": {
  "application/vnd.databricks.v1+notebook": {
   "computePreferences": null,
   "dashboards": [],
   "environmentMetadata": {
    "base_environment": "",
    "environment_version": "2"
   },
   "language": "python",
   "notebookMetadata": {
    "pythonIndentUnit": 2
   },
   "notebookName": "6 month back raw 2",
   "widgets": {}
  },
  "language_info": {
   "name": "python"
  }
 },
 "nbformat": 4,
 "nbformat_minor": 0
}
